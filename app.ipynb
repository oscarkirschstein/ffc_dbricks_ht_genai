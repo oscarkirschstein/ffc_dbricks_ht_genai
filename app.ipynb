{
 "cells": [
  {
   "cell_type": "code",
   "execution_count": 1,
   "metadata": {},
   "outputs": [],
   "source": [
    "from groq import Groq"
   ]
  },
  {
   "cell_type": "code",
   "execution_count": null,
   "metadata": {},
   "outputs": [],
   "source": [
    "# Functions\n",
    "def load_note(): # TODO: link to the doctor's actual input\n",
    "    # return a string with the doctor note\n",
    "    return \"This patient's history of recurrent kidney stones, osteopenia, and high-dose vitamin D supplementation, along with laboratory findings of hypercalcemia and hypercalciuria, suggest the possibility of vitamin D toxicity. Excessive intake of vitamin D can cause increased absorption of calcium from the gut, leading to hypercalcemia and hypercalciuria, which can result in kidney stones and bone loss. Treatment would involve stopping the vitamin D supplementation and potentially providing intravenous fluids and loop diuretics to promote the excretion of calcium.\"\n",
    "\n",
    "def extract_pathologies(completions, batch_size=1):\n",
    "    results = []\n",
    "    total = len(completions)\n",
    "    for i in range(0, total, batch_size):\n",
    "        batch = completions[i:i+batch_size]        \n",
    "        prompt = \"Given the following medical case descriptions, extract and return only the main pathology or condition mentioned for each case (one per line, one per case, in order). If the pathology is very unclear, return 'unknown', if the text is unrelated to a pathology description, then return 'unrelated'. DON'T RETURN ANYTHING ELSE BUT THE PATHOLOGIES:\\n\\n\"\n",
    "        for j, completion in enumerate(batch, 1):\n",
    "            prompt += f\"CASE {j}:\\n{completion}\\n\\n\"\n",
    "        prompt += \"\"\"\n",
    "        EXAMPLE INPUT:\n",
    "        CASE 1: This patient's history of recurrent kidney stones, osteopenia, and high-dose vitamin D supplementation, along with laboratory findings of hypercalcemia and hypercalciuria, suggest the possibility of vitamin D toxicity. Excessive intake of vitamin D can cause increased absorption of calcium from the gut, leading to hypercalcemia and hypercalciuria, which can result in kidney stones and bone loss. Treatment would involve stopping the vitamin D supplementation and potentially providing intravenous fluids and loop diuretics to promote the excretion of calcium.\n",
    "        CASE 2: A 45-year-old patient presents with vague symptoms including fatigue, mild joint pain, and occasional headaches. Physical examination reveals no significant findings, and initial laboratory tests are within normal ranges. The patient's medical history is unremarkable, and they report no recent travel or exposure to infectious diseases. Despite thorough questioning, no clear pattern or specific triggers for the symptoms can be identified.\n",
    "        CASE 2: This child's symptoms of a red, bulging tympanic membrane with systemic symptoms such as fever and headache, and the additional symptoms of dizziness and a spinning sensation, raise concern for complications of acute otitis media. The differential diagnosis could include labyrinthitis or possibly even mastoiditis. Urgent evaluation, including further imaging studies such as a CT or MRI scan, may be necessary. This child likely requires admission for intravenous antibiotics and possibly surgical intervention if mastoiditis is confirmed.\n",
    "        CASE 4: While the symptoms might initially suggest asthma, the lack of response to bronchodilators indicates a different cause. A possible diagnosis in this case might be idiopathic pulmonary fibrosis, a type of lung disease that results in scarring (fibrosis) of the lungs for an unknown reason. High-resolution CT of the chest would be the next step in diagnosis.\n",
    "        CASE 5: The annual report for XYZ Corporation shows a 15% increase in revenue compared to the previous fiscal year. The company attributes this growth to the successful launch of a new product line and expansion into international markets. The board of directors has approved a 5% dividend increase for shareholders. The report also outlines plans for sustainable practices and corporate social responsibility initiatives for the coming year.\n",
    "\n",
    "        EXAMPLE OUTPUT:\n",
    "        vitamin d toxicity\n",
    "        unknown\n",
    "        acute otitis media, possible complication of labyrinthitis or mastoiditis\n",
    "        idiopathic pulmonary fibrosis\n",
    "        unrelated\n",
    "        \"\"\"\n",
    "        \n",
    "\n",
    "        client = Groq(api_key=\"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\")\n",
    "        response = client.chat.completions.create(\n",
    "            messages=[\n",
    "                {\n",
    "                    \"role\": \"user\",\n",
    "                    \"content\": prompt\n",
    "                }\n",
    "            ],\n",
    "            model=\"llama-3.1-70b-versatile\",\n",
    "        )\n",
    "        \n",
    "        batch_results = response.choices[0].message.content.strip().split('\\n')\n",
    "        results.extend(batch_results)\n",
    "    \n",
    "    return results\n"
   ]
  },
  {
   "cell_type": "code",
   "execution_count": null,
   "metadata": {},
   "outputs": [],
   "source": [
    "class Patient:\n",
    "    def __init__(self, id, active_pathologies=[]):\n",
    "        self.id = id\n",
    "        self.active_pathologies = active_pathologies\n",
    "\n",
    "\n",
    "    def add_pathologies(self, pathologies):\n",
    "        \"\"\"Adds new pathologies to the patient's active pathologies and returns the new complete set\n",
    "\n",
    "        Args:\n",
    "            pathologies (_type_): _description_\n",
    "\n",
    "        Returns:\n",
    "            _type_: _description_\n",
    "        \"\"\"\n",
    "        self.active_pathologies.extend(pathologies)\n",
    "        return self.active_pathologies\n",
    "        \n",
    "    def remove_pathology(self, pathology):\n",
    "        self.active_pathologies.remove(pathology)"
   ]
  },
  {
   "cell_type": "code",
   "execution_count": null,
   "metadata": {},
   "outputs": [],
   "source": [
    "patient = Patient(1)\n",
    "\n",
    "# Main flow\n",
    "doctor_note = load_note()\n",
    "\n",
    "# Extract pathology from doctor note\n",
    "pathologies = extract_pathologies(doctor_note)\n",
    "\n",
    "# If new pathologies are found, add it to the active pathologies of the patient\n",
    "if new_pathologies := patient.has_new_pathologies(pathologies):\n",
    "    # Add new pathology to the patient's active pathologies\n",
    "    pathologies = patient.active_pathologies.add_pathologies(new_pathologies)\n",
    "    \n",
    "# Extract features that are trackable, and relate them to the active pathologies\n",
    "# features = extract_features(doctor_note)\n",
    "\n",
    "# TODO: Modify pathologies + features to be saved (human in the loop)\n",
    "\n",
    "# Save features and pathologies to DB\n",
    "# save_treatment_data(patient, features, pathologies)"
   ]
  }
 ],
 "metadata": {
  "kernelspec": {
   "display_name": "ffc-dbricks-ht-genai-fgXJucMy-py3.12",
   "language": "python",
   "name": "python3"
  },
  "language_info": {
   "codemirror_mode": {
    "name": "ipython",
    "version": 3
   },
   "file_extension": ".py",
   "mimetype": "text/x-python",
   "name": "python",
   "nbconvert_exporter": "python",
   "pygments_lexer": "ipython3",
   "version": "3.12.4"
  }
 },
 "nbformat": 4,
 "nbformat_minor": 2
}
