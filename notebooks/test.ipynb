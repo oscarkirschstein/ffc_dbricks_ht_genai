{
 "cells": [
  {
   "cell_type": "code",
   "execution_count": 46,
   "metadata": {},
   "outputs": [
    {
     "data": {
      "application/vnd.plotly.v1+json": {
       "config": {
        "plotlyServerURL": "https://plot.ly"
       },
       "data": [
        {
         "hoverinfo": "text",
         "hovertext": [
          "📅 Date: 2024-10-01<br>🔥 Intensity: 0.9<br>📝 Reason: Patient reports severe leg pain, difficulty walking",
          "📅 Date: 2024-10-02<br>🔥 Intensity: 0.7<br>📝 Reason: Leg pain continues but slightly improved with prescribed medication",
          "📅 Date: 2024-10-03<br>🔥 Intensity: 0.5<br>📝 Reason: Moderate leg pain, patient able to walk short distances",
          "📅 Date: 2024-10-07<br>🔥 Intensity: 0.6<br>📝 Reason: Leg pain has returned, moderate intensity",
          "📅 Date: 2024-10-08<br>🔥 Intensity: 0.8<br>📝 Reason: Significant increase in leg pain, limiting mobility",
          "📅 Date: 2024-10-09<br>🔥 Intensity: 0.7<br>📝 Reason: Leg pain remains high but slightly improved from yesterday",
          "📅 Date: 2024-10-12<br>🔥 Intensity: 0.4<br>📝 Reason: Mild leg pain has returned",
          "📅 Date: 2024-10-13<br>🔥 Intensity: 0.3<br>📝 Reason: Minimal leg pain, well controlled",
          "📅 Date: 2024-10-14<br>🔥 Intensity: 0.2<br>📝 Reason: Very mild leg pain, continuing to improve"
         ],
         "line": {
          "color": "rgba(153, 102, 255, 0.3)",
          "width": 3
         },
         "marker": {
          "cmax": 1,
          "cmin": 0,
          "color": [
           0.9,
           0.7,
           0.5,
           0.6,
           0.8,
           0.7,
           0.4,
           0.3,
           0.2
          ],
          "colorbar": {
           "bgcolor": "rgba(255,255,255,0.9)",
           "bordercolor": "rgba(255,255,255,0.9)",
           "dtick": 0.2,
           "len": 0.4,
           "thickness": 15,
           "tick0": 0,
           "tickfont": {
            "size": 12
           },
           "tickmode": "linear",
           "title": {
            "side": "right",
            "text": "Intensity Level"
           }
          },
          "colorscale": [
           [
            0,
            "rgba(0,255,0,0.7)"
           ],
           [
            0.25,
            "rgba(173,255,47,0.7)"
           ],
           [
            0.5,
            "rgba(255,255,0,0.7)"
           ],
           [
            0.75,
            "rgba(255,165,0,0.7)"
           ],
           [
            1,
            "rgba(255,0,0,0.7)"
           ]
          ],
          "line": {
           "color": "white",
           "width": 2
          },
          "showscale": true,
          "size": 25,
          "symbol": "circle"
         },
         "mode": "markers+lines",
         "name": "leg pain",
         "type": "scatter",
         "x": [
          "2024-10-01T00:00:00",
          "2024-10-02T00:00:00",
          "2024-10-03T00:00:00",
          "2024-10-07T00:00:00",
          "2024-10-08T00:00:00",
          "2024-10-09T00:00:00",
          "2024-10-12T00:00:00",
          "2024-10-13T00:00:00",
          "2024-10-14T00:00:00"
         ],
         "y": [
          0,
          0,
          0,
          0,
          0,
          0,
          0,
          0,
          0
         ]
        },
        {
         "hoverinfo": "text",
         "hovertext": [
          "📅 Date: 2024-10-15<br>🔥 Intensity: 0.5<br>📝 Reason: Patient reports moderate difficulty falling asleep",
          "📅 Date: 2024-10-16<br>🔥 Intensity: 0.6<br>📝 Reason: Sleep issues worsening, waking up multiple times",
          "📅 Date: 2024-10-17<br>🔥 Intensity: 0.7<br>📝 Reason: Significant sleep disruption, affecting daytime function",
          "📅 Date: 2024-10-18<br>🔥 Intensity: 0.8<br>📝 Reason: Severe insomnia, only getting 2-3 hours of sleep",
          "📅 Date: 2024-10-19<br>🔥 Intensity: 0.7<br>📝 Reason: Sleep slightly improved but still significantly disturbed",
          "📅 Date: 2024-10-20<br>🔥 Intensity: 0.6<br>📝 Reason: Moderate sleep issues, medication helping somewhat",
          "📅 Date: 2024-10-21<br>🔥 Intensity: 0.5<br>📝 Reason: Sleep quality improving with treatment",
          "📅 Date: 2024-10-22<br>🔥 Intensity: 0.4<br>📝 Reason: Mild sleep disturbance, getting better rest",
          "📅 Date: 2024-10-23<br>🔥 Intensity: 0.3<br>📝 Reason: Minor sleep issues, mostly resolved"
         ],
         "line": {
          "color": "rgba(153, 102, 255, 0.3)",
          "width": 3
         },
         "marker": {
          "cmax": 1,
          "cmin": 0,
          "color": [
           0.5,
           0.6,
           0.7,
           0.8,
           0.7,
           0.6,
           0.5,
           0.4,
           0.3
          ],
          "colorbar": {
           "bgcolor": "rgba(255,255,255,0.9)",
           "bordercolor": "rgba(255,255,255,0.9)",
           "dtick": 0.2,
           "len": 0.4,
           "thickness": 15,
           "tick0": 0,
           "tickfont": {
            "size": 12
           },
           "tickmode": "linear",
           "title": {
            "side": "right",
            "text": "Intensity Level"
           }
          },
          "colorscale": [
           [
            0,
            "rgba(0,255,0,0.7)"
           ],
           [
            0.25,
            "rgba(173,255,47,0.7)"
           ],
           [
            0.5,
            "rgba(255,255,0,0.7)"
           ],
           [
            0.75,
            "rgba(255,165,0,0.7)"
           ],
           [
            1,
            "rgba(255,0,0,0.7)"
           ]
          ],
          "line": {
           "color": "white",
           "width": 2
          },
          "showscale": true,
          "size": 25,
          "symbol": "circle"
         },
         "mode": "markers+lines",
         "name": "sleep disturbance",
         "type": "scatter",
         "x": [
          "2024-10-15T00:00:00",
          "2024-10-16T00:00:00",
          "2024-10-17T00:00:00",
          "2024-10-18T00:00:00",
          "2024-10-19T00:00:00",
          "2024-10-20T00:00:00",
          "2024-10-21T00:00:00",
          "2024-10-22T00:00:00",
          "2024-10-23T00:00:00"
         ],
         "y": [
          1,
          1,
          1,
          1,
          1,
          1,
          1,
          1,
          1
         ]
        },
        {
         "hoverinfo": "text",
         "hovertext": [
          "📅 Date: 2024-10-20<br>🔥 Intensity: 0.3<br>📝 Reason: Patient reports new onset of tingling sensation",
          "📅 Date: 2024-10-21<br>🔥 Intensity: 0.4<br>📝 Reason: Nerve pain increasing, spreading to larger area",
          "📅 Date: 2024-10-22<br>🔥 Intensity: 0.5<br>📝 Reason: Moderate nerve pain with occasional sharp sensations",
          "📅 Date: 2024-10-23<br>🔥 Intensity: 0.7<br>📝 Reason: Severe nerve pain, significantly affecting daily activities"
         ],
         "line": {
          "color": "rgba(153, 102, 255, 0.3)",
          "width": 3
         },
         "marker": {
          "cmax": 1,
          "cmin": 0,
          "color": [
           0.3,
           0.4,
           0.5,
           0.7
          ],
          "colorbar": {
           "bgcolor": "rgba(255,255,255,0.9)",
           "bordercolor": "rgba(255,255,255,0.9)",
           "dtick": 0.2,
           "len": 0.4,
           "thickness": 15,
           "tick0": 0,
           "tickfont": {
            "size": 12
           },
           "tickmode": "linear",
           "title": {
            "side": "right",
            "text": "Intensity Level"
           }
          },
          "colorscale": [
           [
            0,
            "rgba(0,255,0,0.7)"
           ],
           [
            0.25,
            "rgba(173,255,47,0.7)"
           ],
           [
            0.5,
            "rgba(255,255,0,0.7)"
           ],
           [
            0.75,
            "rgba(255,165,0,0.7)"
           ],
           [
            1,
            "rgba(255,0,0,0.7)"
           ]
          ],
          "line": {
           "color": "white",
           "width": 2
          },
          "showscale": true,
          "size": 25,
          "symbol": "circle"
         },
         "mode": "markers+lines",
         "name": "nerve pain",
         "type": "scatter",
         "x": [
          "2024-10-20T00:00:00",
          "2024-10-21T00:00:00",
          "2024-10-22T00:00:00",
          "2024-10-23T00:00:00"
         ],
         "y": [
          2,
          2,
          2,
          2
         ]
        }
       ],
       "layout": {
        "height": 700,
        "hoverlabel": {
         "bgcolor": "white",
         "font": {
          "size": 12
         }
        },
        "margin": {
         "b": 50,
         "l": 150,
         "r": 100,
         "t": 100
        },
        "paper_bgcolor": "rgba(240,242,245,0.95)",
        "plot_bgcolor": "rgba(240,242,245,0.95)",
        "shapes": [
         {
          "fillcolor": "rgba(255,65,0,0.35)",
          "layer": "below",
          "line": {
           "width": 0
          },
          "type": "rect",
          "x0": "2024-10-01T00:00:00",
          "x1": "2024-10-01T01:12:00",
          "y0": -0.35,
          "y1": 0.35
         },
         {
          "fillcolor": "rgba(255,72,0,0.35)",
          "layer": "below",
          "line": {
           "width": 0
          },
          "type": "rect",
          "x0": "2024-10-01T01:12:00",
          "x1": "2024-10-01T02:24:00",
          "y0": -0.35,
          "y1": 0.35
         },
         {
          "fillcolor": "rgba(255,79,0,0.35)",
          "layer": "below",
          "line": {
           "width": 0
          },
          "type": "rect",
          "x0": "2024-10-01T02:24:00",
          "x1": "2024-10-01T03:36:00",
          "y0": -0.35,
          "y1": 0.35
         },
         {
          "fillcolor": "rgba(255,85,0,0.35)",
          "layer": "below",
          "line": {
           "width": 0
          },
          "type": "rect",
          "x0": "2024-10-01T03:36:00",
          "x1": "2024-10-01T04:48:00",
          "y0": -0.35,
          "y1": 0.35
         },
         {
          "fillcolor": "rgba(255,92,0,0.35)",
          "layer": "below",
          "line": {
           "width": 0
          },
          "type": "rect",
          "x0": "2024-10-01T04:48:00",
          "x1": "2024-10-01T06:00:00",
          "y0": -0.35,
          "y1": 0.35
         },
         {
          "fillcolor": "rgba(255,99,0,0.35)",
          "layer": "below",
          "line": {
           "width": 0
          },
          "type": "rect",
          "x0": "2024-10-01T06:00:00",
          "x1": "2024-10-01T07:12:00",
          "y0": -0.35,
          "y1": 0.35
         },
         {
          "fillcolor": "rgba(255,105,0,0.35)",
          "layer": "below",
          "line": {
           "width": 0
          },
          "type": "rect",
          "x0": "2024-10-01T07:12:00",
          "x1": "2024-10-01T08:24:00",
          "y0": -0.35,
          "y1": 0.35
         },
         {
          "fillcolor": "rgba(255,112,0,0.35)",
          "layer": "below",
          "line": {
           "width": 0
          },
          "type": "rect",
          "x0": "2024-10-01T08:24:00",
          "x1": "2024-10-01T09:36:00",
          "y0": -0.35,
          "y1": 0.35
         },
         {
          "fillcolor": "rgba(255,118,0,0.35)",
          "layer": "below",
          "line": {
           "width": 0
          },
          "type": "rect",
          "x0": "2024-10-01T09:36:00",
          "x1": "2024-10-01T10:48:00",
          "y0": -0.35,
          "y1": 0.35
         },
         {
          "fillcolor": "rgba(255,125,0,0.35)",
          "layer": "below",
          "line": {
           "width": 0
          },
          "type": "rect",
          "x0": "2024-10-01T10:48:00",
          "x1": "2024-10-01T12:00:00",
          "y0": -0.35,
          "y1": 0.35
         },
         {
          "fillcolor": "rgba(255,131,0,0.35)",
          "layer": "below",
          "line": {
           "width": 0
          },
          "type": "rect",
          "x0": "2024-10-01T12:00:00",
          "x1": "2024-10-01T13:12:00",
          "y0": -0.35,
          "y1": 0.35
         },
         {
          "fillcolor": "rgba(255,138,0,0.35)",
          "layer": "below",
          "line": {
           "width": 0
          },
          "type": "rect",
          "x0": "2024-10-01T13:12:00",
          "x1": "2024-10-01T14:24:00",
          "y0": -0.35,
          "y1": 0.35
         },
         {
          "fillcolor": "rgba(255,145,0,0.35)",
          "layer": "below",
          "line": {
           "width": 0
          },
          "type": "rect",
          "x0": "2024-10-01T14:24:00",
          "x1": "2024-10-01T15:36:00",
          "y0": -0.35,
          "y1": 0.35
         },
         {
          "fillcolor": "rgba(255,151,0,0.35)",
          "layer": "below",
          "line": {
           "width": 0
          },
          "type": "rect",
          "x0": "2024-10-01T15:36:00",
          "x1": "2024-10-01T16:48:00",
          "y0": -0.35,
          "y1": 0.35
         },
         {
          "fillcolor": "rgba(255,158,0,0.35)",
          "layer": "below",
          "line": {
           "width": 0
          },
          "type": "rect",
          "x0": "2024-10-01T16:48:00",
          "x1": "2024-10-01T18:00:00",
          "y0": -0.35,
          "y1": 0.35
         },
         {
          "fillcolor": "rgba(255,165,0,0.35)",
          "layer": "below",
          "line": {
           "width": 0
          },
          "type": "rect",
          "x0": "2024-10-01T18:00:00",
          "x1": "2024-10-01T19:12:00",
          "y0": -0.35,
          "y1": 0.35
         },
         {
          "fillcolor": "rgba(255,168,0,0.35)",
          "layer": "below",
          "line": {
           "width": 0
          },
          "type": "rect",
          "x0": "2024-10-01T19:12:00",
          "x1": "2024-10-01T20:24:00",
          "y0": -0.35,
          "y1": 0.35
         },
         {
          "fillcolor": "rgba(255,172,0,0.35)",
          "layer": "below",
          "line": {
           "width": 0
          },
          "type": "rect",
          "x0": "2024-10-01T20:24:00",
          "x1": "2024-10-01T21:36:00",
          "y0": -0.35,
          "y1": 0.35
         },
         {
          "fillcolor": "rgba(255,175,0,0.35)",
          "layer": "below",
          "line": {
           "width": 0
          },
          "type": "rect",
          "x0": "2024-10-01T21:36:00",
          "x1": "2024-10-01T22:48:00",
          "y0": -0.35,
          "y1": 0.35
         },
         {
          "fillcolor": "rgba(255,179,0,0.35)",
          "layer": "below",
          "line": {
           "width": 0
          },
          "type": "rect",
          "x0": "2024-10-01T22:48:00",
          "x1": "2024-10-02T00:00:00",
          "y0": -0.35,
          "y1": 0.35
         },
         {
          "fillcolor": "rgba(255,183,0,0.35)",
          "layer": "below",
          "line": {
           "width": 0
          },
          "type": "rect",
          "x0": "2024-10-02T00:00:00",
          "x1": "2024-10-02T01:12:00",
          "y0": -0.35,
          "y1": 0.35
         },
         {
          "fillcolor": "rgba(255,186,0,0.35)",
          "layer": "below",
          "line": {
           "width": 0
          },
          "type": "rect",
          "x0": "2024-10-02T01:12:00",
          "x1": "2024-10-02T02:24:00",
          "y0": -0.35,
          "y1": 0.35
         },
         {
          "fillcolor": "rgba(255,190,0,0.35)",
          "layer": "below",
          "line": {
           "width": 0
          },
          "type": "rect",
          "x0": "2024-10-02T02:24:00",
          "x1": "2024-10-02T03:36:00",
          "y0": -0.35,
          "y1": 0.35
         },
         {
          "fillcolor": "rgba(255,193,0,0.35)",
          "layer": "below",
          "line": {
           "width": 0
          },
          "type": "rect",
          "x0": "2024-10-02T03:36:00",
          "x1": "2024-10-02T04:48:00",
          "y0": -0.35,
          "y1": 0.35
         },
         {
          "fillcolor": "rgba(255,197,0,0.35)",
          "layer": "below",
          "line": {
           "width": 0
          },
          "type": "rect",
          "x0": "2024-10-02T04:48:00",
          "x1": "2024-10-02T06:00:00",
          "y0": -0.35,
          "y1": 0.35
         },
         {
          "fillcolor": "rgba(255,201,0,0.35)",
          "layer": "below",
          "line": {
           "width": 0
          },
          "type": "rect",
          "x0": "2024-10-02T06:00:00",
          "x1": "2024-10-02T07:12:00",
          "y0": -0.35,
          "y1": 0.35
         },
         {
          "fillcolor": "rgba(255,204,0,0.35)",
          "layer": "below",
          "line": {
           "width": 0
          },
          "type": "rect",
          "x0": "2024-10-02T07:12:00",
          "x1": "2024-10-02T08:24:00",
          "y0": -0.35,
          "y1": 0.35
         },
         {
          "fillcolor": "rgba(255,208,0,0.35)",
          "layer": "below",
          "line": {
           "width": 0
          },
          "type": "rect",
          "x0": "2024-10-02T08:24:00",
          "x1": "2024-10-02T09:36:00",
          "y0": -0.35,
          "y1": 0.35
         },
         {
          "fillcolor": "rgba(255,211,0,0.35)",
          "layer": "below",
          "line": {
           "width": 0
          },
          "type": "rect",
          "x0": "2024-10-02T09:36:00",
          "x1": "2024-10-02T10:48:00",
          "y0": -0.35,
          "y1": 0.35
         },
         {
          "fillcolor": "rgba(255,215,0,0.35)",
          "layer": "below",
          "line": {
           "width": 0
          },
          "type": "rect",
          "x0": "2024-10-02T10:48:00",
          "x1": "2024-10-02T12:00:00",
          "y0": -0.35,
          "y1": 0.35
         },
         {
          "fillcolor": "rgba(255,219,0,0.35)",
          "layer": "below",
          "line": {
           "width": 0
          },
          "type": "rect",
          "x0": "2024-10-02T12:00:00",
          "x1": "2024-10-02T13:12:00",
          "y0": -0.35,
          "y1": 0.35
         },
         {
          "fillcolor": "rgba(255,222,0,0.35)",
          "layer": "below",
          "line": {
           "width": 0
          },
          "type": "rect",
          "x0": "2024-10-02T13:12:00",
          "x1": "2024-10-02T14:24:00",
          "y0": -0.35,
          "y1": 0.35
         },
         {
          "fillcolor": "rgba(255,226,0,0.35)",
          "layer": "below",
          "line": {
           "width": 0
          },
          "type": "rect",
          "x0": "2024-10-02T14:24:00",
          "x1": "2024-10-02T15:36:00",
          "y0": -0.35,
          "y1": 0.35
         },
         {
          "fillcolor": "rgba(255,229,0,0.35)",
          "layer": "below",
          "line": {
           "width": 0
          },
          "type": "rect",
          "x0": "2024-10-02T15:36:00",
          "x1": "2024-10-02T16:48:00",
          "y0": -0.35,
          "y1": 0.35
         },
         {
          "fillcolor": "rgba(255,233,0,0.35)",
          "layer": "below",
          "line": {
           "width": 0
          },
          "type": "rect",
          "x0": "2024-10-02T16:48:00",
          "x1": "2024-10-02T18:00:00",
          "y0": -0.35,
          "y1": 0.35
         },
         {
          "fillcolor": "rgba(255,237,0,0.35)",
          "layer": "below",
          "line": {
           "width": 0
          },
          "type": "rect",
          "x0": "2024-10-02T18:00:00",
          "x1": "2024-10-02T19:12:00",
          "y0": -0.35,
          "y1": 0.35
         },
         {
          "fillcolor": "rgba(255,240,0,0.35)",
          "layer": "below",
          "line": {
           "width": 0
          },
          "type": "rect",
          "x0": "2024-10-02T19:12:00",
          "x1": "2024-10-02T20:24:00",
          "y0": -0.35,
          "y1": 0.35
         },
         {
          "fillcolor": "rgba(255,244,0,0.35)",
          "layer": "below",
          "line": {
           "width": 0
          },
          "type": "rect",
          "x0": "2024-10-02T20:24:00",
          "x1": "2024-10-02T21:36:00",
          "y0": -0.35,
          "y1": 0.35
         },
         {
          "fillcolor": "rgba(255,247,0,0.35)",
          "layer": "below",
          "line": {
           "width": 0
          },
          "type": "rect",
          "x0": "2024-10-02T21:36:00",
          "x1": "2024-10-02T22:48:00",
          "y0": -0.35,
          "y1": 0.35
         },
         {
          "fillcolor": "rgba(255,251,0,0.35)",
          "layer": "below",
          "line": {
           "width": 0
          },
          "type": "rect",
          "x0": "2024-10-02T22:48:00",
          "x1": "2024-10-03T00:00:00",
          "y0": -0.35,
          "y1": 0.35
         },
         {
          "fillcolor": "rgba(255,219,0,0.35)",
          "layer": "below",
          "line": {
           "width": 0
          },
          "type": "rect",
          "x0": "2024-10-07T00:00:00",
          "x1": "2024-10-07T01:12:00",
          "y0": -0.35,
          "y1": 0.35
         },
         {
          "fillcolor": "rgba(255,215,0,0.35)",
          "layer": "below",
          "line": {
           "width": 0
          },
          "type": "rect",
          "x0": "2024-10-07T01:12:00",
          "x1": "2024-10-07T02:24:00",
          "y0": -0.35,
          "y1": 0.35
         },
         {
          "fillcolor": "rgba(255,211,0,0.35)",
          "layer": "below",
          "line": {
           "width": 0
          },
          "type": "rect",
          "x0": "2024-10-07T02:24:00",
          "x1": "2024-10-07T03:36:00",
          "y0": -0.35,
          "y1": 0.35
         },
         {
          "fillcolor": "rgba(255,208,0,0.35)",
          "layer": "below",
          "line": {
           "width": 0
          },
          "type": "rect",
          "x0": "2024-10-07T03:36:00",
          "x1": "2024-10-07T04:48:00",
          "y0": -0.35,
          "y1": 0.35
         },
         {
          "fillcolor": "rgba(255,204,0,0.35)",
          "layer": "below",
          "line": {
           "width": 0
          },
          "type": "rect",
          "x0": "2024-10-07T04:48:00",
          "x1": "2024-10-07T06:00:00",
          "y0": -0.35,
          "y1": 0.35
         },
         {
          "fillcolor": "rgba(255,201,0,0.35)",
          "layer": "below",
          "line": {
           "width": 0
          },
          "type": "rect",
          "x0": "2024-10-07T06:00:00",
          "x1": "2024-10-07T07:12:00",
          "y0": -0.35,
          "y1": 0.35
         },
         {
          "fillcolor": "rgba(255,197,0,0.35)",
          "layer": "below",
          "line": {
           "width": 0
          },
          "type": "rect",
          "x0": "2024-10-07T07:12:00",
          "x1": "2024-10-07T08:24:00",
          "y0": -0.35,
          "y1": 0.35
         },
         {
          "fillcolor": "rgba(255,193,0,0.35)",
          "layer": "below",
          "line": {
           "width": 0
          },
          "type": "rect",
          "x0": "2024-10-07T08:24:00",
          "x1": "2024-10-07T09:36:00",
          "y0": -0.35,
          "y1": 0.35
         },
         {
          "fillcolor": "rgba(255,190,0,0.35)",
          "layer": "below",
          "line": {
           "width": 0
          },
          "type": "rect",
          "x0": "2024-10-07T09:36:00",
          "x1": "2024-10-07T10:48:00",
          "y0": -0.35,
          "y1": 0.35
         },
         {
          "fillcolor": "rgba(255,186,0,0.35)",
          "layer": "below",
          "line": {
           "width": 0
          },
          "type": "rect",
          "x0": "2024-10-07T10:48:00",
          "x1": "2024-10-07T12:00:00",
          "y0": -0.35,
          "y1": 0.35
         },
         {
          "fillcolor": "rgba(255,183,0,0.35)",
          "layer": "below",
          "line": {
           "width": 0
          },
          "type": "rect",
          "x0": "2024-10-07T12:00:00",
          "x1": "2024-10-07T13:12:00",
          "y0": -0.35,
          "y1": 0.35
         },
         {
          "fillcolor": "rgba(255,179,0,0.35)",
          "layer": "below",
          "line": {
           "width": 0
          },
          "type": "rect",
          "x0": "2024-10-07T13:12:00",
          "x1": "2024-10-07T14:24:00",
          "y0": -0.35,
          "y1": 0.35
         },
         {
          "fillcolor": "rgba(255,175,0,0.35)",
          "layer": "below",
          "line": {
           "width": 0
          },
          "type": "rect",
          "x0": "2024-10-07T14:24:00",
          "x1": "2024-10-07T15:36:00",
          "y0": -0.35,
          "y1": 0.35
         },
         {
          "fillcolor": "rgba(255,172,0,0.35)",
          "layer": "below",
          "line": {
           "width": 0
          },
          "type": "rect",
          "x0": "2024-10-07T15:36:00",
          "x1": "2024-10-07T16:48:00",
          "y0": -0.35,
          "y1": 0.35
         },
         {
          "fillcolor": "rgba(255,168,0,0.35)",
          "layer": "below",
          "line": {
           "width": 0
          },
          "type": "rect",
          "x0": "2024-10-07T16:48:00",
          "x1": "2024-10-07T18:00:00",
          "y0": -0.35,
          "y1": 0.35
         },
         {
          "fillcolor": "rgba(255,165,0,0.35)",
          "layer": "below",
          "line": {
           "width": 0
          },
          "type": "rect",
          "x0": "2024-10-07T18:00:00",
          "x1": "2024-10-07T19:12:00",
          "y0": -0.35,
          "y1": 0.35
         },
         {
          "fillcolor": "rgba(255,158,0,0.35)",
          "layer": "below",
          "line": {
           "width": 0
          },
          "type": "rect",
          "x0": "2024-10-07T19:12:00",
          "x1": "2024-10-07T20:24:00",
          "y0": -0.35,
          "y1": 0.35
         },
         {
          "fillcolor": "rgba(255,151,0,0.35)",
          "layer": "below",
          "line": {
           "width": 0
          },
          "type": "rect",
          "x0": "2024-10-07T20:24:00",
          "x1": "2024-10-07T21:36:00",
          "y0": -0.35,
          "y1": 0.35
         },
         {
          "fillcolor": "rgba(255,145,0,0.35)",
          "layer": "below",
          "line": {
           "width": 0
          },
          "type": "rect",
          "x0": "2024-10-07T21:36:00",
          "x1": "2024-10-07T22:48:00",
          "y0": -0.35,
          "y1": 0.35
         },
         {
          "fillcolor": "rgba(255,138,0,0.35)",
          "layer": "below",
          "line": {
           "width": 0
          },
          "type": "rect",
          "x0": "2024-10-07T22:48:00",
          "x1": "2024-10-08T00:00:00",
          "y0": -0.35,
          "y1": 0.35
         },
         {
          "fillcolor": "rgba(255,131,0,0.35)",
          "layer": "below",
          "line": {
           "width": 0
          },
          "type": "rect",
          "x0": "2024-10-08T00:00:00",
          "x1": "2024-10-08T01:12:00",
          "y0": -0.35,
          "y1": 0.35
         },
         {
          "fillcolor": "rgba(255,135,0,0.35)",
          "layer": "below",
          "line": {
           "width": 0
          },
          "type": "rect",
          "x0": "2024-10-08T01:12:00",
          "x1": "2024-10-08T02:24:00",
          "y0": -0.35,
          "y1": 0.35
         },
         {
          "fillcolor": "rgba(255,138,0,0.35)",
          "layer": "below",
          "line": {
           "width": 0
          },
          "type": "rect",
          "x0": "2024-10-08T02:24:00",
          "x1": "2024-10-08T03:36:00",
          "y0": -0.35,
          "y1": 0.35
         },
         {
          "fillcolor": "rgba(255,141,0,0.35)",
          "layer": "below",
          "line": {
           "width": 0
          },
          "type": "rect",
          "x0": "2024-10-08T03:36:00",
          "x1": "2024-10-08T04:48:00",
          "y0": -0.35,
          "y1": 0.35
         },
         {
          "fillcolor": "rgba(255,145,0,0.35)",
          "layer": "below",
          "line": {
           "width": 0
          },
          "type": "rect",
          "x0": "2024-10-08T04:48:00",
          "x1": "2024-10-08T06:00:00",
          "y0": -0.35,
          "y1": 0.35
         },
         {
          "fillcolor": "rgba(255,148,0,0.35)",
          "layer": "below",
          "line": {
           "width": 0
          },
          "type": "rect",
          "x0": "2024-10-08T06:00:00",
          "x1": "2024-10-08T07:12:00",
          "y0": -0.35,
          "y1": 0.35
         },
         {
          "fillcolor": "rgba(255,151,0,0.35)",
          "layer": "below",
          "line": {
           "width": 0
          },
          "type": "rect",
          "x0": "2024-10-08T07:12:00",
          "x1": "2024-10-08T08:24:00",
          "y0": -0.35,
          "y1": 0.35
         },
         {
          "fillcolor": "rgba(255,155,0,0.35)",
          "layer": "below",
          "line": {
           "width": 0
          },
          "type": "rect",
          "x0": "2024-10-08T08:24:00",
          "x1": "2024-10-08T09:36:00",
          "y0": -0.35,
          "y1": 0.35
         },
         {
          "fillcolor": "rgba(255,158,0,0.35)",
          "layer": "below",
          "line": {
           "width": 0
          },
          "type": "rect",
          "x0": "2024-10-08T09:36:00",
          "x1": "2024-10-08T10:48:00",
          "y0": -0.35,
          "y1": 0.35
         },
         {
          "fillcolor": "rgba(255,161,0,0.35)",
          "layer": "below",
          "line": {
           "width": 0
          },
          "type": "rect",
          "x0": "2024-10-08T10:48:00",
          "x1": "2024-10-08T12:00:00",
          "y0": -0.35,
          "y1": 0.35
         },
         {
          "fillcolor": "rgba(255,165,0,0.35)",
          "layer": "below",
          "line": {
           "width": 0
          },
          "type": "rect",
          "x0": "2024-10-08T12:00:00",
          "x1": "2024-10-08T13:12:00",
          "y0": -0.35,
          "y1": 0.35
         },
         {
          "fillcolor": "rgba(255,166,0,0.35)",
          "layer": "below",
          "line": {
           "width": 0
          },
          "type": "rect",
          "x0": "2024-10-08T13:12:00",
          "x1": "2024-10-08T14:24:00",
          "y0": -0.35,
          "y1": 0.35
         },
         {
          "fillcolor": "rgba(255,168,0,0.35)",
          "layer": "below",
          "line": {
           "width": 0
          },
          "type": "rect",
          "x0": "2024-10-08T14:24:00",
          "x1": "2024-10-08T15:36:00",
          "y0": -0.35,
          "y1": 0.35
         },
         {
          "fillcolor": "rgba(255,170,0,0.35)",
          "layer": "below",
          "line": {
           "width": 0
          },
          "type": "rect",
          "x0": "2024-10-08T15:36:00",
          "x1": "2024-10-08T16:48:00",
          "y0": -0.35,
          "y1": 0.35
         },
         {
          "fillcolor": "rgba(255,172,0,0.35)",
          "layer": "below",
          "line": {
           "width": 0
          },
          "type": "rect",
          "x0": "2024-10-08T16:48:00",
          "x1": "2024-10-08T18:00:00",
          "y0": -0.35,
          "y1": 0.35
         },
         {
          "fillcolor": "rgba(255,174,0,0.35)",
          "layer": "below",
          "line": {
           "width": 0
          },
          "type": "rect",
          "x0": "2024-10-08T18:00:00",
          "x1": "2024-10-08T19:12:00",
          "y0": -0.35,
          "y1": 0.35
         },
         {
          "fillcolor": "rgba(255,175,0,0.35)",
          "layer": "below",
          "line": {
           "width": 0
          },
          "type": "rect",
          "x0": "2024-10-08T19:12:00",
          "x1": "2024-10-08T20:24:00",
          "y0": -0.35,
          "y1": 0.35
         },
         {
          "fillcolor": "rgba(255,177,0,0.35)",
          "layer": "below",
          "line": {
           "width": 0
          },
          "type": "rect",
          "x0": "2024-10-08T20:24:00",
          "x1": "2024-10-08T21:36:00",
          "y0": -0.35,
          "y1": 0.35
         },
         {
          "fillcolor": "rgba(255,179,0,0.35)",
          "layer": "below",
          "line": {
           "width": 0
          },
          "type": "rect",
          "x0": "2024-10-08T21:36:00",
          "x1": "2024-10-08T22:48:00",
          "y0": -0.35,
          "y1": 0.35
         },
         {
          "fillcolor": "rgba(255,181,0,0.35)",
          "layer": "below",
          "line": {
           "width": 0
          },
          "type": "rect",
          "x0": "2024-10-08T22:48:00",
          "x1": "2024-10-09T00:00:00",
          "y0": -0.35,
          "y1": 0.35
         },
         {
          "fillcolor": "rgba(222,255,18,0.35)",
          "layer": "below",
          "line": {
           "width": 0
          },
          "type": "rect",
          "x0": "2024-10-12T00:00:00",
          "x1": "2024-10-12T01:12:00",
          "y0": -0.35,
          "y1": 0.35
         },
         {
          "fillcolor": "rgba(220,255,19,0.35)",
          "layer": "below",
          "line": {
           "width": 0
          },
          "type": "rect",
          "x0": "2024-10-12T01:12:00",
          "x1": "2024-10-12T02:24:00",
          "y0": -0.35,
          "y1": 0.35
         },
         {
          "fillcolor": "rgba(218,255,20,0.35)",
          "layer": "below",
          "line": {
           "width": 0
          },
          "type": "rect",
          "x0": "2024-10-12T02:24:00",
          "x1": "2024-10-12T03:36:00",
          "y0": -0.35,
          "y1": 0.35
         },
         {
          "fillcolor": "rgba(217,255,21,0.35)",
          "layer": "below",
          "line": {
           "width": 0
          },
          "type": "rect",
          "x0": "2024-10-12T03:36:00",
          "x1": "2024-10-12T04:48:00",
          "y0": -0.35,
          "y1": 0.35
         },
         {
          "fillcolor": "rgba(215,255,22,0.35)",
          "layer": "below",
          "line": {
           "width": 0
          },
          "type": "rect",
          "x0": "2024-10-12T04:48:00",
          "x1": "2024-10-12T06:00:00",
          "y0": -0.35,
          "y1": 0.35
         },
         {
          "fillcolor": "rgba(214,255,23,0.35)",
          "layer": "below",
          "line": {
           "width": 0
          },
          "type": "rect",
          "x0": "2024-10-12T06:00:00",
          "x1": "2024-10-12T07:12:00",
          "y0": -0.35,
          "y1": 0.35
         },
         {
          "fillcolor": "rgba(212,255,24,0.35)",
          "layer": "below",
          "line": {
           "width": 0
          },
          "type": "rect",
          "x0": "2024-10-12T07:12:00",
          "x1": "2024-10-12T08:24:00",
          "y0": -0.35,
          "y1": 0.35
         },
         {
          "fillcolor": "rgba(210,255,25,0.35)",
          "layer": "below",
          "line": {
           "width": 0
          },
          "type": "rect",
          "x0": "2024-10-12T08:24:00",
          "x1": "2024-10-12T09:36:00",
          "y0": -0.35,
          "y1": 0.35
         },
         {
          "fillcolor": "rgba(209,255,26,0.35)",
          "layer": "below",
          "line": {
           "width": 0
          },
          "type": "rect",
          "x0": "2024-10-12T09:36:00",
          "x1": "2024-10-12T10:48:00",
          "y0": -0.35,
          "y1": 0.35
         },
         {
          "fillcolor": "rgba(207,255,27,0.35)",
          "layer": "below",
          "line": {
           "width": 0
          },
          "type": "rect",
          "x0": "2024-10-12T10:48:00",
          "x1": "2024-10-12T12:00:00",
          "y0": -0.35,
          "y1": 0.35
         },
         {
          "fillcolor": "rgba(205,255,28,0.35)",
          "layer": "below",
          "line": {
           "width": 0
          },
          "type": "rect",
          "x0": "2024-10-12T12:00:00",
          "x1": "2024-10-12T13:12:00",
          "y0": -0.35,
          "y1": 0.35
         },
         {
          "fillcolor": "rgba(204,255,29,0.35)",
          "layer": "below",
          "line": {
           "width": 0
          },
          "type": "rect",
          "x0": "2024-10-12T13:12:00",
          "x1": "2024-10-12T14:24:00",
          "y0": -0.35,
          "y1": 0.35
         },
         {
          "fillcolor": "rgba(202,255,30,0.35)",
          "layer": "below",
          "line": {
           "width": 0
          },
          "type": "rect",
          "x0": "2024-10-12T14:24:00",
          "x1": "2024-10-12T15:36:00",
          "y0": -0.35,
          "y1": 0.35
         },
         {
          "fillcolor": "rgba(200,255,31,0.35)",
          "layer": "below",
          "line": {
           "width": 0
          },
          "type": "rect",
          "x0": "2024-10-12T15:36:00",
          "x1": "2024-10-12T16:48:00",
          "y0": -0.35,
          "y1": 0.35
         },
         {
          "fillcolor": "rgba(199,255,31,0.35)",
          "layer": "below",
          "line": {
           "width": 0
          },
          "type": "rect",
          "x0": "2024-10-12T16:48:00",
          "x1": "2024-10-12T18:00:00",
          "y0": -0.35,
          "y1": 0.35
         },
         {
          "fillcolor": "rgba(197,255,32,0.35)",
          "layer": "below",
          "line": {
           "width": 0
          },
          "type": "rect",
          "x0": "2024-10-12T18:00:00",
          "x1": "2024-10-12T19:12:00",
          "y0": -0.35,
          "y1": 0.35
         },
         {
          "fillcolor": "rgba(195,255,33,0.35)",
          "layer": "below",
          "line": {
           "width": 0
          },
          "type": "rect",
          "x0": "2024-10-12T19:12:00",
          "x1": "2024-10-12T20:24:00",
          "y0": -0.35,
          "y1": 0.35
         },
         {
          "fillcolor": "rgba(194,255,34,0.35)",
          "layer": "below",
          "line": {
           "width": 0
          },
          "type": "rect",
          "x0": "2024-10-12T20:24:00",
          "x1": "2024-10-12T21:36:00",
          "y0": -0.35,
          "y1": 0.35
         },
         {
          "fillcolor": "rgba(192,255,35,0.35)",
          "layer": "below",
          "line": {
           "width": 0
          },
          "type": "rect",
          "x0": "2024-10-12T21:36:00",
          "x1": "2024-10-12T22:48:00",
          "y0": -0.35,
          "y1": 0.35
         },
         {
          "fillcolor": "rgba(191,255,36,0.35)",
          "layer": "below",
          "line": {
           "width": 0
          },
          "type": "rect",
          "x0": "2024-10-12T22:48:00",
          "x1": "2024-10-13T00:00:00",
          "y0": -0.35,
          "y1": 0.35
         },
         {
          "fillcolor": "rgba(189,255,37,0.35)",
          "layer": "below",
          "line": {
           "width": 0
          },
          "type": "rect",
          "x0": "2024-10-13T00:00:00",
          "x1": "2024-10-13T01:12:00",
          "y0": -0.35,
          "y1": 0.35
         },
         {
          "fillcolor": "rgba(187,255,38,0.35)",
          "layer": "below",
          "line": {
           "width": 0
          },
          "type": "rect",
          "x0": "2024-10-13T01:12:00",
          "x1": "2024-10-13T02:24:00",
          "y0": -0.35,
          "y1": 0.35
         },
         {
          "fillcolor": "rgba(186,255,39,0.35)",
          "layer": "below",
          "line": {
           "width": 0
          },
          "type": "rect",
          "x0": "2024-10-13T02:24:00",
          "x1": "2024-10-13T03:36:00",
          "y0": -0.35,
          "y1": 0.35
         },
         {
          "fillcolor": "rgba(184,255,40,0.35)",
          "layer": "below",
          "line": {
           "width": 0
          },
          "type": "rect",
          "x0": "2024-10-13T03:36:00",
          "x1": "2024-10-13T04:48:00",
          "y0": -0.35,
          "y1": 0.35
         },
         {
          "fillcolor": "rgba(182,255,41,0.35)",
          "layer": "below",
          "line": {
           "width": 0
          },
          "type": "rect",
          "x0": "2024-10-13T04:48:00",
          "x1": "2024-10-13T06:00:00",
          "y0": -0.35,
          "y1": 0.35
         },
         {
          "fillcolor": "rgba(181,255,42,0.35)",
          "layer": "below",
          "line": {
           "width": 0
          },
          "type": "rect",
          "x0": "2024-10-13T06:00:00",
          "x1": "2024-10-13T07:12:00",
          "y0": -0.35,
          "y1": 0.35
         },
         {
          "fillcolor": "rgba(179,255,43,0.35)",
          "layer": "below",
          "line": {
           "width": 0
          },
          "type": "rect",
          "x0": "2024-10-13T07:12:00",
          "x1": "2024-10-13T08:24:00",
          "y0": -0.35,
          "y1": 0.35
         },
         {
          "fillcolor": "rgba(177,255,44,0.35)",
          "layer": "below",
          "line": {
           "width": 0
          },
          "type": "rect",
          "x0": "2024-10-13T08:24:00",
          "x1": "2024-10-13T09:36:00",
          "y0": -0.35,
          "y1": 0.35
         },
         {
          "fillcolor": "rgba(176,255,45,0.35)",
          "layer": "below",
          "line": {
           "width": 0
          },
          "type": "rect",
          "x0": "2024-10-13T09:36:00",
          "x1": "2024-10-13T10:48:00",
          "y0": -0.35,
          "y1": 0.35
         },
         {
          "fillcolor": "rgba(174,255,46,0.35)",
          "layer": "below",
          "line": {
           "width": 0
          },
          "type": "rect",
          "x0": "2024-10-13T10:48:00",
          "x1": "2024-10-13T12:00:00",
          "y0": -0.35,
          "y1": 0.35
         },
         {
          "fillcolor": "rgba(173,255,47,0.35)",
          "layer": "below",
          "line": {
           "width": 0
          },
          "type": "rect",
          "x0": "2024-10-13T12:00:00",
          "x1": "2024-10-13T13:12:00",
          "y0": -0.35,
          "y1": 0.35
         },
         {
          "fillcolor": "rgba(169,255,46,0.35)",
          "layer": "below",
          "line": {
           "width": 0
          },
          "type": "rect",
          "x0": "2024-10-13T13:12:00",
          "x1": "2024-10-13T14:24:00",
          "y0": -0.35,
          "y1": 0.35
         },
         {
          "fillcolor": "rgba(166,255,45,0.35)",
          "layer": "below",
          "line": {
           "width": 0
          },
          "type": "rect",
          "x0": "2024-10-13T14:24:00",
          "x1": "2024-10-13T15:36:00",
          "y0": -0.35,
          "y1": 0.35
         },
         {
          "fillcolor": "rgba(162,255,44,0.35)",
          "layer": "below",
          "line": {
           "width": 0
          },
          "type": "rect",
          "x0": "2024-10-13T15:36:00",
          "x1": "2024-10-13T16:48:00",
          "y0": -0.35,
          "y1": 0.35
         },
         {
          "fillcolor": "rgba(159,255,43,0.35)",
          "layer": "below",
          "line": {
           "width": 0
          },
          "type": "rect",
          "x0": "2024-10-13T16:48:00",
          "x1": "2024-10-13T18:00:00",
          "y0": -0.35,
          "y1": 0.35
         },
         {
          "fillcolor": "rgba(155,255,42,0.35)",
          "layer": "below",
          "line": {
           "width": 0
          },
          "type": "rect",
          "x0": "2024-10-13T18:00:00",
          "x1": "2024-10-13T19:12:00",
          "y0": -0.35,
          "y1": 0.35
         },
         {
          "fillcolor": "rgba(152,255,41,0.35)",
          "layer": "below",
          "line": {
           "width": 0
          },
          "type": "rect",
          "x0": "2024-10-13T19:12:00",
          "x1": "2024-10-13T20:24:00",
          "y0": -0.35,
          "y1": 0.35
         },
         {
          "fillcolor": "rgba(148,255,40,0.35)",
          "layer": "below",
          "line": {
           "width": 0
          },
          "type": "rect",
          "x0": "2024-10-13T20:24:00",
          "x1": "2024-10-13T21:36:00",
          "y0": -0.35,
          "y1": 0.35
         },
         {
          "fillcolor": "rgba(145,255,39,0.35)",
          "layer": "below",
          "line": {
           "width": 0
          },
          "type": "rect",
          "x0": "2024-10-13T21:36:00",
          "x1": "2024-10-13T22:48:00",
          "y0": -0.35,
          "y1": 0.35
         },
         {
          "fillcolor": "rgba(141,255,38,0.35)",
          "layer": "below",
          "line": {
           "width": 0
          },
          "type": "rect",
          "x0": "2024-10-13T22:48:00",
          "x1": "2024-10-14T00:00:00",
          "y0": -0.35,
          "y1": 0.35
         },
         {
          "fillcolor": "rgba(255,255,0,0.35)",
          "layer": "below",
          "line": {
           "width": 0
          },
          "type": "rect",
          "x0": "2024-10-15T00:00:00",
          "x1": "2024-10-15T01:12:00",
          "y0": 0.65,
          "y1": 1.35
         },
         {
          "fillcolor": "rgba(255,253,0,0.35)",
          "layer": "below",
          "line": {
           "width": 0
          },
          "type": "rect",
          "x0": "2024-10-15T01:12:00",
          "x1": "2024-10-15T02:24:00",
          "y0": 0.65,
          "y1": 1.35
         },
         {
          "fillcolor": "rgba(255,251,0,0.35)",
          "layer": "below",
          "line": {
           "width": 0
          },
          "type": "rect",
          "x0": "2024-10-15T02:24:00",
          "x1": "2024-10-15T03:36:00",
          "y0": 0.65,
          "y1": 1.35
         },
         {
          "fillcolor": "rgba(255,249,0,0.35)",
          "layer": "below",
          "line": {
           "width": 0
          },
          "type": "rect",
          "x0": "2024-10-15T03:36:00",
          "x1": "2024-10-15T04:48:00",
          "y0": 0.65,
          "y1": 1.35
         },
         {
          "fillcolor": "rgba(255,247,0,0.35)",
          "layer": "below",
          "line": {
           "width": 0
          },
          "type": "rect",
          "x0": "2024-10-15T04:48:00",
          "x1": "2024-10-15T06:00:00",
          "y0": 0.65,
          "y1": 1.35
         },
         {
          "fillcolor": "rgba(255,246,0,0.35)",
          "layer": "below",
          "line": {
           "width": 0
          },
          "type": "rect",
          "x0": "2024-10-15T06:00:00",
          "x1": "2024-10-15T07:12:00",
          "y0": 0.65,
          "y1": 1.35
         },
         {
          "fillcolor": "rgba(255,244,0,0.35)",
          "layer": "below",
          "line": {
           "width": 0
          },
          "type": "rect",
          "x0": "2024-10-15T07:12:00",
          "x1": "2024-10-15T08:24:00",
          "y0": 0.65,
          "y1": 1.35
         },
         {
          "fillcolor": "rgba(255,242,0,0.35)",
          "layer": "below",
          "line": {
           "width": 0
          },
          "type": "rect",
          "x0": "2024-10-15T08:24:00",
          "x1": "2024-10-15T09:36:00",
          "y0": 0.65,
          "y1": 1.35
         },
         {
          "fillcolor": "rgba(255,240,0,0.35)",
          "layer": "below",
          "line": {
           "width": 0
          },
          "type": "rect",
          "x0": "2024-10-15T09:36:00",
          "x1": "2024-10-15T10:48:00",
          "y0": 0.65,
          "y1": 1.35
         },
         {
          "fillcolor": "rgba(255,238,0,0.35)",
          "layer": "below",
          "line": {
           "width": 0
          },
          "type": "rect",
          "x0": "2024-10-15T10:48:00",
          "x1": "2024-10-15T12:00:00",
          "y0": 0.65,
          "y1": 1.35
         },
         {
          "fillcolor": "rgba(255,237,0,0.35)",
          "layer": "below",
          "line": {
           "width": 0
          },
          "type": "rect",
          "x0": "2024-10-15T12:00:00",
          "x1": "2024-10-15T13:12:00",
          "y0": 0.65,
          "y1": 1.35
         },
         {
          "fillcolor": "rgba(255,235,0,0.35)",
          "layer": "below",
          "line": {
           "width": 0
          },
          "type": "rect",
          "x0": "2024-10-15T13:12:00",
          "x1": "2024-10-15T14:24:00",
          "y0": 0.65,
          "y1": 1.35
         },
         {
          "fillcolor": "rgba(255,233,0,0.35)",
          "layer": "below",
          "line": {
           "width": 0
          },
          "type": "rect",
          "x0": "2024-10-15T14:24:00",
          "x1": "2024-10-15T15:36:00",
          "y0": 0.65,
          "y1": 1.35
         },
         {
          "fillcolor": "rgba(255,231,0,0.35)",
          "layer": "below",
          "line": {
           "width": 0
          },
          "type": "rect",
          "x0": "2024-10-15T15:36:00",
          "x1": "2024-10-15T16:48:00",
          "y0": 0.65,
          "y1": 1.35
         },
         {
          "fillcolor": "rgba(255,229,0,0.35)",
          "layer": "below",
          "line": {
           "width": 0
          },
          "type": "rect",
          "x0": "2024-10-15T16:48:00",
          "x1": "2024-10-15T18:00:00",
          "y0": 0.65,
          "y1": 1.35
         },
         {
          "fillcolor": "rgba(255,228,0,0.35)",
          "layer": "below",
          "line": {
           "width": 0
          },
          "type": "rect",
          "x0": "2024-10-15T18:00:00",
          "x1": "2024-10-15T19:12:00",
          "y0": 0.65,
          "y1": 1.35
         },
         {
          "fillcolor": "rgba(255,226,0,0.35)",
          "layer": "below",
          "line": {
           "width": 0
          },
          "type": "rect",
          "x0": "2024-10-15T19:12:00",
          "x1": "2024-10-15T20:24:00",
          "y0": 0.65,
          "y1": 1.35
         },
         {
          "fillcolor": "rgba(255,224,0,0.35)",
          "layer": "below",
          "line": {
           "width": 0
          },
          "type": "rect",
          "x0": "2024-10-15T20:24:00",
          "x1": "2024-10-15T21:36:00",
          "y0": 0.65,
          "y1": 1.35
         },
         {
          "fillcolor": "rgba(255,222,0,0.35)",
          "layer": "below",
          "line": {
           "width": 0
          },
          "type": "rect",
          "x0": "2024-10-15T21:36:00",
          "x1": "2024-10-15T22:48:00",
          "y0": 0.65,
          "y1": 1.35
         },
         {
          "fillcolor": "rgba(255,220,0,0.35)",
          "layer": "below",
          "line": {
           "width": 0
          },
          "type": "rect",
          "x0": "2024-10-15T22:48:00",
          "x1": "2024-10-16T00:00:00",
          "y0": 0.65,
          "y1": 1.35
         },
         {
          "fillcolor": "rgba(255,219,0,0.35)",
          "layer": "below",
          "line": {
           "width": 0
          },
          "type": "rect",
          "x0": "2024-10-16T00:00:00",
          "x1": "2024-10-16T01:12:00",
          "y0": 0.65,
          "y1": 1.35
         },
         {
          "fillcolor": "rgba(255,217,0,0.35)",
          "layer": "below",
          "line": {
           "width": 0
          },
          "type": "rect",
          "x0": "2024-10-16T01:12:00",
          "x1": "2024-10-16T02:24:00",
          "y0": 0.65,
          "y1": 1.35
         },
         {
          "fillcolor": "rgba(255,215,0,0.35)",
          "layer": "below",
          "line": {
           "width": 0
          },
          "type": "rect",
          "x0": "2024-10-16T02:24:00",
          "x1": "2024-10-16T03:36:00",
          "y0": 0.65,
          "y1": 1.35
         },
         {
          "fillcolor": "rgba(255,213,0,0.35)",
          "layer": "below",
          "line": {
           "width": 0
          },
          "type": "rect",
          "x0": "2024-10-16T03:36:00",
          "x1": "2024-10-16T04:48:00",
          "y0": 0.65,
          "y1": 1.35
         },
         {
          "fillcolor": "rgba(255,211,0,0.35)",
          "layer": "below",
          "line": {
           "width": 0
          },
          "type": "rect",
          "x0": "2024-10-16T04:48:00",
          "x1": "2024-10-16T06:00:00",
          "y0": 0.65,
          "y1": 1.35
         },
         {
          "fillcolor": "rgba(255,210,0,0.35)",
          "layer": "below",
          "line": {
           "width": 0
          },
          "type": "rect",
          "x0": "2024-10-16T06:00:00",
          "x1": "2024-10-16T07:12:00",
          "y0": 0.65,
          "y1": 1.35
         },
         {
          "fillcolor": "rgba(255,208,0,0.35)",
          "layer": "below",
          "line": {
           "width": 0
          },
          "type": "rect",
          "x0": "2024-10-16T07:12:00",
          "x1": "2024-10-16T08:24:00",
          "y0": 0.65,
          "y1": 1.35
         },
         {
          "fillcolor": "rgba(255,206,0,0.35)",
          "layer": "below",
          "line": {
           "width": 0
          },
          "type": "rect",
          "x0": "2024-10-16T08:24:00",
          "x1": "2024-10-16T09:36:00",
          "y0": 0.65,
          "y1": 1.35
         },
         {
          "fillcolor": "rgba(255,204,0,0.35)",
          "layer": "below",
          "line": {
           "width": 0
          },
          "type": "rect",
          "x0": "2024-10-16T09:36:00",
          "x1": "2024-10-16T10:48:00",
          "y0": 0.65,
          "y1": 1.35
         },
         {
          "fillcolor": "rgba(255,202,0,0.35)",
          "layer": "below",
          "line": {
           "width": 0
          },
          "type": "rect",
          "x0": "2024-10-16T10:48:00",
          "x1": "2024-10-16T12:00:00",
          "y0": 0.65,
          "y1": 1.35
         },
         {
          "fillcolor": "rgba(255,201,0,0.35)",
          "layer": "below",
          "line": {
           "width": 0
          },
          "type": "rect",
          "x0": "2024-10-16T12:00:00",
          "x1": "2024-10-16T13:12:00",
          "y0": 0.65,
          "y1": 1.35
         },
         {
          "fillcolor": "rgba(255,199,0,0.35)",
          "layer": "below",
          "line": {
           "width": 0
          },
          "type": "rect",
          "x0": "2024-10-16T13:12:00",
          "x1": "2024-10-16T14:24:00",
          "y0": 0.65,
          "y1": 1.35
         },
         {
          "fillcolor": "rgba(255,197,0,0.35)",
          "layer": "below",
          "line": {
           "width": 0
          },
          "type": "rect",
          "x0": "2024-10-16T14:24:00",
          "x1": "2024-10-16T15:36:00",
          "y0": 0.65,
          "y1": 1.35
         },
         {
          "fillcolor": "rgba(255,195,0,0.35)",
          "layer": "below",
          "line": {
           "width": 0
          },
          "type": "rect",
          "x0": "2024-10-16T15:36:00",
          "x1": "2024-10-16T16:48:00",
          "y0": 0.65,
          "y1": 1.35
         },
         {
          "fillcolor": "rgba(255,193,0,0.35)",
          "layer": "below",
          "line": {
           "width": 0
          },
          "type": "rect",
          "x0": "2024-10-16T16:48:00",
          "x1": "2024-10-16T18:00:00",
          "y0": 0.65,
          "y1": 1.35
         },
         {
          "fillcolor": "rgba(255,192,0,0.35)",
          "layer": "below",
          "line": {
           "width": 0
          },
          "type": "rect",
          "x0": "2024-10-16T18:00:00",
          "x1": "2024-10-16T19:12:00",
          "y0": 0.65,
          "y1": 1.35
         },
         {
          "fillcolor": "rgba(255,190,0,0.35)",
          "layer": "below",
          "line": {
           "width": 0
          },
          "type": "rect",
          "x0": "2024-10-16T19:12:00",
          "x1": "2024-10-16T20:24:00",
          "y0": 0.65,
          "y1": 1.35
         },
         {
          "fillcolor": "rgba(255,188,0,0.35)",
          "layer": "below",
          "line": {
           "width": 0
          },
          "type": "rect",
          "x0": "2024-10-16T20:24:00",
          "x1": "2024-10-16T21:36:00",
          "y0": 0.65,
          "y1": 1.35
         },
         {
          "fillcolor": "rgba(255,186,0,0.35)",
          "layer": "below",
          "line": {
           "width": 0
          },
          "type": "rect",
          "x0": "2024-10-16T21:36:00",
          "x1": "2024-10-16T22:48:00",
          "y0": 0.65,
          "y1": 1.35
         },
         {
          "fillcolor": "rgba(255,184,0,0.35)",
          "layer": "below",
          "line": {
           "width": 0
          },
          "type": "rect",
          "x0": "2024-10-16T22:48:00",
          "x1": "2024-10-17T00:00:00",
          "y0": 0.65,
          "y1": 1.35
         },
         {
          "fillcolor": "rgba(255,183,0,0.35)",
          "layer": "below",
          "line": {
           "width": 0
          },
          "type": "rect",
          "x0": "2024-10-17T00:00:00",
          "x1": "2024-10-17T01:12:00",
          "y0": 0.65,
          "y1": 1.35
         },
         {
          "fillcolor": "rgba(255,181,0,0.35)",
          "layer": "below",
          "line": {
           "width": 0
          },
          "type": "rect",
          "x0": "2024-10-17T01:12:00",
          "x1": "2024-10-17T02:24:00",
          "y0": 0.65,
          "y1": 1.35
         },
         {
          "fillcolor": "rgba(255,179,0,0.35)",
          "layer": "below",
          "line": {
           "width": 0
          },
          "type": "rect",
          "x0": "2024-10-17T02:24:00",
          "x1": "2024-10-17T03:36:00",
          "y0": 0.65,
          "y1": 1.35
         },
         {
          "fillcolor": "rgba(255,177,0,0.35)",
          "layer": "below",
          "line": {
           "width": 0
          },
          "type": "rect",
          "x0": "2024-10-17T03:36:00",
          "x1": "2024-10-17T04:48:00",
          "y0": 0.65,
          "y1": 1.35
         },
         {
          "fillcolor": "rgba(255,175,0,0.35)",
          "layer": "below",
          "line": {
           "width": 0
          },
          "type": "rect",
          "x0": "2024-10-17T04:48:00",
          "x1": "2024-10-17T06:00:00",
          "y0": 0.65,
          "y1": 1.35
         },
         {
          "fillcolor": "rgba(255,174,0,0.35)",
          "layer": "below",
          "line": {
           "width": 0
          },
          "type": "rect",
          "x0": "2024-10-17T06:00:00",
          "x1": "2024-10-17T07:12:00",
          "y0": 0.65,
          "y1": 1.35
         },
         {
          "fillcolor": "rgba(255,172,0,0.35)",
          "layer": "below",
          "line": {
           "width": 0
          },
          "type": "rect",
          "x0": "2024-10-17T07:12:00",
          "x1": "2024-10-17T08:24:00",
          "y0": 0.65,
          "y1": 1.35
         },
         {
          "fillcolor": "rgba(255,170,0,0.35)",
          "layer": "below",
          "line": {
           "width": 0
          },
          "type": "rect",
          "x0": "2024-10-17T08:24:00",
          "x1": "2024-10-17T09:36:00",
          "y0": 0.65,
          "y1": 1.35
         },
         {
          "fillcolor": "rgba(255,168,0,0.35)",
          "layer": "below",
          "line": {
           "width": 0
          },
          "type": "rect",
          "x0": "2024-10-17T09:36:00",
          "x1": "2024-10-17T10:48:00",
          "y0": 0.65,
          "y1": 1.35
         },
         {
          "fillcolor": "rgba(255,166,0,0.35)",
          "layer": "below",
          "line": {
           "width": 0
          },
          "type": "rect",
          "x0": "2024-10-17T10:48:00",
          "x1": "2024-10-17T12:00:00",
          "y0": 0.65,
          "y1": 1.35
         },
         {
          "fillcolor": "rgba(255,165,0,0.35)",
          "layer": "below",
          "line": {
           "width": 0
          },
          "type": "rect",
          "x0": "2024-10-17T12:00:00",
          "x1": "2024-10-17T13:12:00",
          "y0": 0.65,
          "y1": 1.35
         },
         {
          "fillcolor": "rgba(255,161,0,0.35)",
          "layer": "below",
          "line": {
           "width": 0
          },
          "type": "rect",
          "x0": "2024-10-17T13:12:00",
          "x1": "2024-10-17T14:24:00",
          "y0": 0.65,
          "y1": 1.35
         },
         {
          "fillcolor": "rgba(255,158,0,0.35)",
          "layer": "below",
          "line": {
           "width": 0
          },
          "type": "rect",
          "x0": "2024-10-17T14:24:00",
          "x1": "2024-10-17T15:36:00",
          "y0": 0.65,
          "y1": 1.35
         },
         {
          "fillcolor": "rgba(255,155,0,0.35)",
          "layer": "below",
          "line": {
           "width": 0
          },
          "type": "rect",
          "x0": "2024-10-17T15:36:00",
          "x1": "2024-10-17T16:48:00",
          "y0": 0.65,
          "y1": 1.35
         },
         {
          "fillcolor": "rgba(255,151,0,0.35)",
          "layer": "below",
          "line": {
           "width": 0
          },
          "type": "rect",
          "x0": "2024-10-17T16:48:00",
          "x1": "2024-10-17T18:00:00",
          "y0": 0.65,
          "y1": 1.35
         },
         {
          "fillcolor": "rgba(255,148,0,0.35)",
          "layer": "below",
          "line": {
           "width": 0
          },
          "type": "rect",
          "x0": "2024-10-17T18:00:00",
          "x1": "2024-10-17T19:12:00",
          "y0": 0.65,
          "y1": 1.35
         },
         {
          "fillcolor": "rgba(255,145,0,0.35)",
          "layer": "below",
          "line": {
           "width": 0
          },
          "type": "rect",
          "x0": "2024-10-17T19:12:00",
          "x1": "2024-10-17T20:24:00",
          "y0": 0.65,
          "y1": 1.35
         },
         {
          "fillcolor": "rgba(255,141,0,0.35)",
          "layer": "below",
          "line": {
           "width": 0
          },
          "type": "rect",
          "x0": "2024-10-17T20:24:00",
          "x1": "2024-10-17T21:36:00",
          "y0": 0.65,
          "y1": 1.35
         },
         {
          "fillcolor": "rgba(255,138,0,0.35)",
          "layer": "below",
          "line": {
           "width": 0
          },
          "type": "rect",
          "x0": "2024-10-17T21:36:00",
          "x1": "2024-10-17T22:48:00",
          "y0": 0.65,
          "y1": 1.35
         },
         {
          "fillcolor": "rgba(255,135,0,0.35)",
          "layer": "below",
          "line": {
           "width": 0
          },
          "type": "rect",
          "x0": "2024-10-17T22:48:00",
          "x1": "2024-10-18T00:00:00",
          "y0": 0.65,
          "y1": 1.35
         },
         {
          "fillcolor": "rgba(255,131,0,0.35)",
          "layer": "below",
          "line": {
           "width": 0
          },
          "type": "rect",
          "x0": "2024-10-18T00:00:00",
          "x1": "2024-10-18T01:12:00",
          "y0": 0.65,
          "y1": 1.35
         },
         {
          "fillcolor": "rgba(255,135,0,0.35)",
          "layer": "below",
          "line": {
           "width": 0
          },
          "type": "rect",
          "x0": "2024-10-18T01:12:00",
          "x1": "2024-10-18T02:24:00",
          "y0": 0.65,
          "y1": 1.35
         },
         {
          "fillcolor": "rgba(255,138,0,0.35)",
          "layer": "below",
          "line": {
           "width": 0
          },
          "type": "rect",
          "x0": "2024-10-18T02:24:00",
          "x1": "2024-10-18T03:36:00",
          "y0": 0.65,
          "y1": 1.35
         },
         {
          "fillcolor": "rgba(255,141,0,0.35)",
          "layer": "below",
          "line": {
           "width": 0
          },
          "type": "rect",
          "x0": "2024-10-18T03:36:00",
          "x1": "2024-10-18T04:48:00",
          "y0": 0.65,
          "y1": 1.35
         },
         {
          "fillcolor": "rgba(255,145,0,0.35)",
          "layer": "below",
          "line": {
           "width": 0
          },
          "type": "rect",
          "x0": "2024-10-18T04:48:00",
          "x1": "2024-10-18T06:00:00",
          "y0": 0.65,
          "y1": 1.35
         },
         {
          "fillcolor": "rgba(255,148,0,0.35)",
          "layer": "below",
          "line": {
           "width": 0
          },
          "type": "rect",
          "x0": "2024-10-18T06:00:00",
          "x1": "2024-10-18T07:12:00",
          "y0": 0.65,
          "y1": 1.35
         },
         {
          "fillcolor": "rgba(255,151,0,0.35)",
          "layer": "below",
          "line": {
           "width": 0
          },
          "type": "rect",
          "x0": "2024-10-18T07:12:00",
          "x1": "2024-10-18T08:24:00",
          "y0": 0.65,
          "y1": 1.35
         },
         {
          "fillcolor": "rgba(255,155,0,0.35)",
          "layer": "below",
          "line": {
           "width": 0
          },
          "type": "rect",
          "x0": "2024-10-18T08:24:00",
          "x1": "2024-10-18T09:36:00",
          "y0": 0.65,
          "y1": 1.35
         },
         {
          "fillcolor": "rgba(255,158,0,0.35)",
          "layer": "below",
          "line": {
           "width": 0
          },
          "type": "rect",
          "x0": "2024-10-18T09:36:00",
          "x1": "2024-10-18T10:48:00",
          "y0": 0.65,
          "y1": 1.35
         },
         {
          "fillcolor": "rgba(255,161,0,0.35)",
          "layer": "below",
          "line": {
           "width": 0
          },
          "type": "rect",
          "x0": "2024-10-18T10:48:00",
          "x1": "2024-10-18T12:00:00",
          "y0": 0.65,
          "y1": 1.35
         },
         {
          "fillcolor": "rgba(255,165,0,0.35)",
          "layer": "below",
          "line": {
           "width": 0
          },
          "type": "rect",
          "x0": "2024-10-18T12:00:00",
          "x1": "2024-10-18T13:12:00",
          "y0": 0.65,
          "y1": 1.35
         },
         {
          "fillcolor": "rgba(255,166,0,0.35)",
          "layer": "below",
          "line": {
           "width": 0
          },
          "type": "rect",
          "x0": "2024-10-18T13:12:00",
          "x1": "2024-10-18T14:24:00",
          "y0": 0.65,
          "y1": 1.35
         },
         {
          "fillcolor": "rgba(255,168,0,0.35)",
          "layer": "below",
          "line": {
           "width": 0
          },
          "type": "rect",
          "x0": "2024-10-18T14:24:00",
          "x1": "2024-10-18T15:36:00",
          "y0": 0.65,
          "y1": 1.35
         },
         {
          "fillcolor": "rgba(255,170,0,0.35)",
          "layer": "below",
          "line": {
           "width": 0
          },
          "type": "rect",
          "x0": "2024-10-18T15:36:00",
          "x1": "2024-10-18T16:48:00",
          "y0": 0.65,
          "y1": 1.35
         },
         {
          "fillcolor": "rgba(255,172,0,0.35)",
          "layer": "below",
          "line": {
           "width": 0
          },
          "type": "rect",
          "x0": "2024-10-18T16:48:00",
          "x1": "2024-10-18T18:00:00",
          "y0": 0.65,
          "y1": 1.35
         },
         {
          "fillcolor": "rgba(255,174,0,0.35)",
          "layer": "below",
          "line": {
           "width": 0
          },
          "type": "rect",
          "x0": "2024-10-18T18:00:00",
          "x1": "2024-10-18T19:12:00",
          "y0": 0.65,
          "y1": 1.35
         },
         {
          "fillcolor": "rgba(255,175,0,0.35)",
          "layer": "below",
          "line": {
           "width": 0
          },
          "type": "rect",
          "x0": "2024-10-18T19:12:00",
          "x1": "2024-10-18T20:24:00",
          "y0": 0.65,
          "y1": 1.35
         },
         {
          "fillcolor": "rgba(255,177,0,0.35)",
          "layer": "below",
          "line": {
           "width": 0
          },
          "type": "rect",
          "x0": "2024-10-18T20:24:00",
          "x1": "2024-10-18T21:36:00",
          "y0": 0.65,
          "y1": 1.35
         },
         {
          "fillcolor": "rgba(255,179,0,0.35)",
          "layer": "below",
          "line": {
           "width": 0
          },
          "type": "rect",
          "x0": "2024-10-18T21:36:00",
          "x1": "2024-10-18T22:48:00",
          "y0": 0.65,
          "y1": 1.35
         },
         {
          "fillcolor": "rgba(255,181,0,0.35)",
          "layer": "below",
          "line": {
           "width": 0
          },
          "type": "rect",
          "x0": "2024-10-18T22:48:00",
          "x1": "2024-10-19T00:00:00",
          "y0": 0.65,
          "y1": 1.35
         },
         {
          "fillcolor": "rgba(255,183,0,0.35)",
          "layer": "below",
          "line": {
           "width": 0
          },
          "type": "rect",
          "x0": "2024-10-19T00:00:00",
          "x1": "2024-10-19T01:12:00",
          "y0": 0.65,
          "y1": 1.35
         },
         {
          "fillcolor": "rgba(255,184,0,0.35)",
          "layer": "below",
          "line": {
           "width": 0
          },
          "type": "rect",
          "x0": "2024-10-19T01:12:00",
          "x1": "2024-10-19T02:24:00",
          "y0": 0.65,
          "y1": 1.35
         },
         {
          "fillcolor": "rgba(255,186,0,0.35)",
          "layer": "below",
          "line": {
           "width": 0
          },
          "type": "rect",
          "x0": "2024-10-19T02:24:00",
          "x1": "2024-10-19T03:36:00",
          "y0": 0.65,
          "y1": 1.35
         },
         {
          "fillcolor": "rgba(255,188,0,0.35)",
          "layer": "below",
          "line": {
           "width": 0
          },
          "type": "rect",
          "x0": "2024-10-19T03:36:00",
          "x1": "2024-10-19T04:48:00",
          "y0": 0.65,
          "y1": 1.35
         },
         {
          "fillcolor": "rgba(255,190,0,0.35)",
          "layer": "below",
          "line": {
           "width": 0
          },
          "type": "rect",
          "x0": "2024-10-19T04:48:00",
          "x1": "2024-10-19T06:00:00",
          "y0": 0.65,
          "y1": 1.35
         },
         {
          "fillcolor": "rgba(255,192,0,0.35)",
          "layer": "below",
          "line": {
           "width": 0
          },
          "type": "rect",
          "x0": "2024-10-19T06:00:00",
          "x1": "2024-10-19T07:12:00",
          "y0": 0.65,
          "y1": 1.35
         },
         {
          "fillcolor": "rgba(255,193,0,0.35)",
          "layer": "below",
          "line": {
           "width": 0
          },
          "type": "rect",
          "x0": "2024-10-19T07:12:00",
          "x1": "2024-10-19T08:24:00",
          "y0": 0.65,
          "y1": 1.35
         },
         {
          "fillcolor": "rgba(255,195,0,0.35)",
          "layer": "below",
          "line": {
           "width": 0
          },
          "type": "rect",
          "x0": "2024-10-19T08:24:00",
          "x1": "2024-10-19T09:36:00",
          "y0": 0.65,
          "y1": 1.35
         },
         {
          "fillcolor": "rgba(255,197,0,0.35)",
          "layer": "below",
          "line": {
           "width": 0
          },
          "type": "rect",
          "x0": "2024-10-19T09:36:00",
          "x1": "2024-10-19T10:48:00",
          "y0": 0.65,
          "y1": 1.35
         },
         {
          "fillcolor": "rgba(255,199,0,0.35)",
          "layer": "below",
          "line": {
           "width": 0
          },
          "type": "rect",
          "x0": "2024-10-19T10:48:00",
          "x1": "2024-10-19T12:00:00",
          "y0": 0.65,
          "y1": 1.35
         },
         {
          "fillcolor": "rgba(255,201,0,0.35)",
          "layer": "below",
          "line": {
           "width": 0
          },
          "type": "rect",
          "x0": "2024-10-19T12:00:00",
          "x1": "2024-10-19T13:12:00",
          "y0": 0.65,
          "y1": 1.35
         },
         {
          "fillcolor": "rgba(255,202,0,0.35)",
          "layer": "below",
          "line": {
           "width": 0
          },
          "type": "rect",
          "x0": "2024-10-19T13:12:00",
          "x1": "2024-10-19T14:24:00",
          "y0": 0.65,
          "y1": 1.35
         },
         {
          "fillcolor": "rgba(255,204,0,0.35)",
          "layer": "below",
          "line": {
           "width": 0
          },
          "type": "rect",
          "x0": "2024-10-19T14:24:00",
          "x1": "2024-10-19T15:36:00",
          "y0": 0.65,
          "y1": 1.35
         },
         {
          "fillcolor": "rgba(255,206,0,0.35)",
          "layer": "below",
          "line": {
           "width": 0
          },
          "type": "rect",
          "x0": "2024-10-19T15:36:00",
          "x1": "2024-10-19T16:48:00",
          "y0": 0.65,
          "y1": 1.35
         },
         {
          "fillcolor": "rgba(255,208,0,0.35)",
          "layer": "below",
          "line": {
           "width": 0
          },
          "type": "rect",
          "x0": "2024-10-19T16:48:00",
          "x1": "2024-10-19T18:00:00",
          "y0": 0.65,
          "y1": 1.35
         },
         {
          "fillcolor": "rgba(255,210,0,0.35)",
          "layer": "below",
          "line": {
           "width": 0
          },
          "type": "rect",
          "x0": "2024-10-19T18:00:00",
          "x1": "2024-10-19T19:12:00",
          "y0": 0.65,
          "y1": 1.35
         },
         {
          "fillcolor": "rgba(255,211,0,0.35)",
          "layer": "below",
          "line": {
           "width": 0
          },
          "type": "rect",
          "x0": "2024-10-19T19:12:00",
          "x1": "2024-10-19T20:24:00",
          "y0": 0.65,
          "y1": 1.35
         },
         {
          "fillcolor": "rgba(255,213,0,0.35)",
          "layer": "below",
          "line": {
           "width": 0
          },
          "type": "rect",
          "x0": "2024-10-19T20:24:00",
          "x1": "2024-10-19T21:36:00",
          "y0": 0.65,
          "y1": 1.35
         },
         {
          "fillcolor": "rgba(255,215,0,0.35)",
          "layer": "below",
          "line": {
           "width": 0
          },
          "type": "rect",
          "x0": "2024-10-19T21:36:00",
          "x1": "2024-10-19T22:48:00",
          "y0": 0.65,
          "y1": 1.35
         },
         {
          "fillcolor": "rgba(255,217,0,0.35)",
          "layer": "below",
          "line": {
           "width": 0
          },
          "type": "rect",
          "x0": "2024-10-19T22:48:00",
          "x1": "2024-10-20T00:00:00",
          "y0": 0.65,
          "y1": 1.35
         },
         {
          "fillcolor": "rgba(255,219,0,0.35)",
          "layer": "below",
          "line": {
           "width": 0
          },
          "type": "rect",
          "x0": "2024-10-20T00:00:00",
          "x1": "2024-10-20T01:12:00",
          "y0": 0.65,
          "y1": 1.35
         },
         {
          "fillcolor": "rgba(255,220,0,0.35)",
          "layer": "below",
          "line": {
           "width": 0
          },
          "type": "rect",
          "x0": "2024-10-20T01:12:00",
          "x1": "2024-10-20T02:24:00",
          "y0": 0.65,
          "y1": 1.35
         },
         {
          "fillcolor": "rgba(255,222,0,0.35)",
          "layer": "below",
          "line": {
           "width": 0
          },
          "type": "rect",
          "x0": "2024-10-20T02:24:00",
          "x1": "2024-10-20T03:36:00",
          "y0": 0.65,
          "y1": 1.35
         },
         {
          "fillcolor": "rgba(255,224,0,0.35)",
          "layer": "below",
          "line": {
           "width": 0
          },
          "type": "rect",
          "x0": "2024-10-20T03:36:00",
          "x1": "2024-10-20T04:48:00",
          "y0": 0.65,
          "y1": 1.35
         },
         {
          "fillcolor": "rgba(255,226,0,0.35)",
          "layer": "below",
          "line": {
           "width": 0
          },
          "type": "rect",
          "x0": "2024-10-20T04:48:00",
          "x1": "2024-10-20T06:00:00",
          "y0": 0.65,
          "y1": 1.35
         },
         {
          "fillcolor": "rgba(255,228,0,0.35)",
          "layer": "below",
          "line": {
           "width": 0
          },
          "type": "rect",
          "x0": "2024-10-20T06:00:00",
          "x1": "2024-10-20T07:12:00",
          "y0": 0.65,
          "y1": 1.35
         },
         {
          "fillcolor": "rgba(255,229,0,0.35)",
          "layer": "below",
          "line": {
           "width": 0
          },
          "type": "rect",
          "x0": "2024-10-20T07:12:00",
          "x1": "2024-10-20T08:24:00",
          "y0": 0.65,
          "y1": 1.35
         },
         {
          "fillcolor": "rgba(255,231,0,0.35)",
          "layer": "below",
          "line": {
           "width": 0
          },
          "type": "rect",
          "x0": "2024-10-20T08:24:00",
          "x1": "2024-10-20T09:36:00",
          "y0": 0.65,
          "y1": 1.35
         },
         {
          "fillcolor": "rgba(255,233,0,0.35)",
          "layer": "below",
          "line": {
           "width": 0
          },
          "type": "rect",
          "x0": "2024-10-20T09:36:00",
          "x1": "2024-10-20T10:48:00",
          "y0": 0.65,
          "y1": 1.35
         },
         {
          "fillcolor": "rgba(255,235,0,0.35)",
          "layer": "below",
          "line": {
           "width": 0
          },
          "type": "rect",
          "x0": "2024-10-20T10:48:00",
          "x1": "2024-10-20T12:00:00",
          "y0": 0.65,
          "y1": 1.35
         },
         {
          "fillcolor": "rgba(255,237,0,0.35)",
          "layer": "below",
          "line": {
           "width": 0
          },
          "type": "rect",
          "x0": "2024-10-20T12:00:00",
          "x1": "2024-10-20T13:12:00",
          "y0": 0.65,
          "y1": 1.35
         },
         {
          "fillcolor": "rgba(255,238,0,0.35)",
          "layer": "below",
          "line": {
           "width": 0
          },
          "type": "rect",
          "x0": "2024-10-20T13:12:00",
          "x1": "2024-10-20T14:24:00",
          "y0": 0.65,
          "y1": 1.35
         },
         {
          "fillcolor": "rgba(255,240,0,0.35)",
          "layer": "below",
          "line": {
           "width": 0
          },
          "type": "rect",
          "x0": "2024-10-20T14:24:00",
          "x1": "2024-10-20T15:36:00",
          "y0": 0.65,
          "y1": 1.35
         },
         {
          "fillcolor": "rgba(255,242,0,0.35)",
          "layer": "below",
          "line": {
           "width": 0
          },
          "type": "rect",
          "x0": "2024-10-20T15:36:00",
          "x1": "2024-10-20T16:48:00",
          "y0": 0.65,
          "y1": 1.35
         },
         {
          "fillcolor": "rgba(255,244,0,0.35)",
          "layer": "below",
          "line": {
           "width": 0
          },
          "type": "rect",
          "x0": "2024-10-20T16:48:00",
          "x1": "2024-10-20T18:00:00",
          "y0": 0.65,
          "y1": 1.35
         },
         {
          "fillcolor": "rgba(255,246,0,0.35)",
          "layer": "below",
          "line": {
           "width": 0
          },
          "type": "rect",
          "x0": "2024-10-20T18:00:00",
          "x1": "2024-10-20T19:12:00",
          "y0": 0.65,
          "y1": 1.35
         },
         {
          "fillcolor": "rgba(255,247,0,0.35)",
          "layer": "below",
          "line": {
           "width": 0
          },
          "type": "rect",
          "x0": "2024-10-20T19:12:00",
          "x1": "2024-10-20T20:24:00",
          "y0": 0.65,
          "y1": 1.35
         },
         {
          "fillcolor": "rgba(255,249,0,0.35)",
          "layer": "below",
          "line": {
           "width": 0
          },
          "type": "rect",
          "x0": "2024-10-20T20:24:00",
          "x1": "2024-10-20T21:36:00",
          "y0": 0.65,
          "y1": 1.35
         },
         {
          "fillcolor": "rgba(255,251,0,0.35)",
          "layer": "below",
          "line": {
           "width": 0
          },
          "type": "rect",
          "x0": "2024-10-20T21:36:00",
          "x1": "2024-10-20T22:48:00",
          "y0": 0.65,
          "y1": 1.35
         },
         {
          "fillcolor": "rgba(255,253,0,0.35)",
          "layer": "below",
          "line": {
           "width": 0
          },
          "type": "rect",
          "x0": "2024-10-20T22:48:00",
          "x1": "2024-10-21T00:00:00",
          "y0": 0.65,
          "y1": 1.35
         },
         {
          "fillcolor": "rgba(255,255,0,0.35)",
          "layer": "below",
          "line": {
           "width": 0
          },
          "type": "rect",
          "x0": "2024-10-21T00:00:00",
          "x1": "2024-10-21T01:12:00",
          "y0": 0.65,
          "y1": 1.35
         },
         {
          "fillcolor": "rgba(253,255,0,0.35)",
          "layer": "below",
          "line": {
           "width": 0
          },
          "type": "rect",
          "x0": "2024-10-21T01:12:00",
          "x1": "2024-10-21T02:24:00",
          "y0": 0.65,
          "y1": 1.35
         },
         {
          "fillcolor": "rgba(251,255,1,0.35)",
          "layer": "below",
          "line": {
           "width": 0
          },
          "type": "rect",
          "x0": "2024-10-21T02:24:00",
          "x1": "2024-10-21T03:36:00",
          "y0": 0.65,
          "y1": 1.35
         },
         {
          "fillcolor": "rgba(250,255,2,0.35)",
          "layer": "below",
          "line": {
           "width": 0
          },
          "type": "rect",
          "x0": "2024-10-21T03:36:00",
          "x1": "2024-10-21T04:48:00",
          "y0": 0.65,
          "y1": 1.35
         },
         {
          "fillcolor": "rgba(248,255,3,0.35)",
          "layer": "below",
          "line": {
           "width": 0
          },
          "type": "rect",
          "x0": "2024-10-21T04:48:00",
          "x1": "2024-10-21T06:00:00",
          "y0": 0.65,
          "y1": 1.35
         },
         {
          "fillcolor": "rgba(246,255,4,0.35)",
          "layer": "below",
          "line": {
           "width": 0
          },
          "type": "rect",
          "x0": "2024-10-21T06:00:00",
          "x1": "2024-10-21T07:12:00",
          "y0": 0.65,
          "y1": 1.35
         },
         {
          "fillcolor": "rgba(245,255,5,0.35)",
          "layer": "below",
          "line": {
           "width": 0
          },
          "type": "rect",
          "x0": "2024-10-21T07:12:00",
          "x1": "2024-10-21T08:24:00",
          "y0": 0.65,
          "y1": 1.35
         },
         {
          "fillcolor": "rgba(243,255,6,0.35)",
          "layer": "below",
          "line": {
           "width": 0
          },
          "type": "rect",
          "x0": "2024-10-21T08:24:00",
          "x1": "2024-10-21T09:36:00",
          "y0": 0.65,
          "y1": 1.35
         },
         {
          "fillcolor": "rgba(241,255,7,0.35)",
          "layer": "below",
          "line": {
           "width": 0
          },
          "type": "rect",
          "x0": "2024-10-21T09:36:00",
          "x1": "2024-10-21T10:48:00",
          "y0": 0.65,
          "y1": 1.35
         },
         {
          "fillcolor": "rgba(240,255,8,0.35)",
          "layer": "below",
          "line": {
           "width": 0
          },
          "type": "rect",
          "x0": "2024-10-21T10:48:00",
          "x1": "2024-10-21T12:00:00",
          "y0": 0.65,
          "y1": 1.35
         },
         {
          "fillcolor": "rgba(238,255,9,0.35)",
          "layer": "below",
          "line": {
           "width": 0
          },
          "type": "rect",
          "x0": "2024-10-21T12:00:00",
          "x1": "2024-10-21T13:12:00",
          "y0": 0.65,
          "y1": 1.35
         },
         {
          "fillcolor": "rgba(236,255,10,0.35)",
          "layer": "below",
          "line": {
           "width": 0
          },
          "type": "rect",
          "x0": "2024-10-21T13:12:00",
          "x1": "2024-10-21T14:24:00",
          "y0": 0.65,
          "y1": 1.35
         },
         {
          "fillcolor": "rgba(235,255,11,0.35)",
          "layer": "below",
          "line": {
           "width": 0
          },
          "type": "rect",
          "x0": "2024-10-21T14:24:00",
          "x1": "2024-10-21T15:36:00",
          "y0": 0.65,
          "y1": 1.35
         },
         {
          "fillcolor": "rgba(233,255,12,0.35)",
          "layer": "below",
          "line": {
           "width": 0
          },
          "type": "rect",
          "x0": "2024-10-21T15:36:00",
          "x1": "2024-10-21T16:48:00",
          "y0": 0.65,
          "y1": 1.35
         },
         {
          "fillcolor": "rgba(232,255,13,0.35)",
          "layer": "below",
          "line": {
           "width": 0
          },
          "type": "rect",
          "x0": "2024-10-21T16:48:00",
          "x1": "2024-10-21T18:00:00",
          "y0": 0.65,
          "y1": 1.35
         },
         {
          "fillcolor": "rgba(230,255,14,0.35)",
          "layer": "below",
          "line": {
           "width": 0
          },
          "type": "rect",
          "x0": "2024-10-21T18:00:00",
          "x1": "2024-10-21T19:12:00",
          "y0": 0.65,
          "y1": 1.35
         },
         {
          "fillcolor": "rgba(228,255,15,0.35)",
          "layer": "below",
          "line": {
           "width": 0
          },
          "type": "rect",
          "x0": "2024-10-21T19:12:00",
          "x1": "2024-10-21T20:24:00",
          "y0": 0.65,
          "y1": 1.35
         },
         {
          "fillcolor": "rgba(227,255,15,0.35)",
          "layer": "below",
          "line": {
           "width": 0
          },
          "type": "rect",
          "x0": "2024-10-21T20:24:00",
          "x1": "2024-10-21T21:36:00",
          "y0": 0.65,
          "y1": 1.35
         },
         {
          "fillcolor": "rgba(225,255,16,0.35)",
          "layer": "below",
          "line": {
           "width": 0
          },
          "type": "rect",
          "x0": "2024-10-21T21:36:00",
          "x1": "2024-10-21T22:48:00",
          "y0": 0.65,
          "y1": 1.35
         },
         {
          "fillcolor": "rgba(223,255,17,0.35)",
          "layer": "below",
          "line": {
           "width": 0
          },
          "type": "rect",
          "x0": "2024-10-21T22:48:00",
          "x1": "2024-10-22T00:00:00",
          "y0": 0.65,
          "y1": 1.35
         },
         {
          "fillcolor": "rgba(222,255,18,0.35)",
          "layer": "below",
          "line": {
           "width": 0
          },
          "type": "rect",
          "x0": "2024-10-22T00:00:00",
          "x1": "2024-10-22T01:12:00",
          "y0": 0.65,
          "y1": 1.35
         },
         {
          "fillcolor": "rgba(220,255,19,0.35)",
          "layer": "below",
          "line": {
           "width": 0
          },
          "type": "rect",
          "x0": "2024-10-22T01:12:00",
          "x1": "2024-10-22T02:24:00",
          "y0": 0.65,
          "y1": 1.35
         },
         {
          "fillcolor": "rgba(218,255,20,0.35)",
          "layer": "below",
          "line": {
           "width": 0
          },
          "type": "rect",
          "x0": "2024-10-22T02:24:00",
          "x1": "2024-10-22T03:36:00",
          "y0": 0.65,
          "y1": 1.35
         },
         {
          "fillcolor": "rgba(217,255,21,0.35)",
          "layer": "below",
          "line": {
           "width": 0
          },
          "type": "rect",
          "x0": "2024-10-22T03:36:00",
          "x1": "2024-10-22T04:48:00",
          "y0": 0.65,
          "y1": 1.35
         },
         {
          "fillcolor": "rgba(215,255,22,0.35)",
          "layer": "below",
          "line": {
           "width": 0
          },
          "type": "rect",
          "x0": "2024-10-22T04:48:00",
          "x1": "2024-10-22T06:00:00",
          "y0": 0.65,
          "y1": 1.35
         },
         {
          "fillcolor": "rgba(214,255,23,0.35)",
          "layer": "below",
          "line": {
           "width": 0
          },
          "type": "rect",
          "x0": "2024-10-22T06:00:00",
          "x1": "2024-10-22T07:12:00",
          "y0": 0.65,
          "y1": 1.35
         },
         {
          "fillcolor": "rgba(212,255,24,0.35)",
          "layer": "below",
          "line": {
           "width": 0
          },
          "type": "rect",
          "x0": "2024-10-22T07:12:00",
          "x1": "2024-10-22T08:24:00",
          "y0": 0.65,
          "y1": 1.35
         },
         {
          "fillcolor": "rgba(210,255,25,0.35)",
          "layer": "below",
          "line": {
           "width": 0
          },
          "type": "rect",
          "x0": "2024-10-22T08:24:00",
          "x1": "2024-10-22T09:36:00",
          "y0": 0.65,
          "y1": 1.35
         },
         {
          "fillcolor": "rgba(209,255,26,0.35)",
          "layer": "below",
          "line": {
           "width": 0
          },
          "type": "rect",
          "x0": "2024-10-22T09:36:00",
          "x1": "2024-10-22T10:48:00",
          "y0": 0.65,
          "y1": 1.35
         },
         {
          "fillcolor": "rgba(207,255,27,0.35)",
          "layer": "below",
          "line": {
           "width": 0
          },
          "type": "rect",
          "x0": "2024-10-22T10:48:00",
          "x1": "2024-10-22T12:00:00",
          "y0": 0.65,
          "y1": 1.35
         },
         {
          "fillcolor": "rgba(205,255,28,0.35)",
          "layer": "below",
          "line": {
           "width": 0
          },
          "type": "rect",
          "x0": "2024-10-22T12:00:00",
          "x1": "2024-10-22T13:12:00",
          "y0": 0.65,
          "y1": 1.35
         },
         {
          "fillcolor": "rgba(204,255,29,0.35)",
          "layer": "below",
          "line": {
           "width": 0
          },
          "type": "rect",
          "x0": "2024-10-22T13:12:00",
          "x1": "2024-10-22T14:24:00",
          "y0": 0.65,
          "y1": 1.35
         },
         {
          "fillcolor": "rgba(202,255,30,0.35)",
          "layer": "below",
          "line": {
           "width": 0
          },
          "type": "rect",
          "x0": "2024-10-22T14:24:00",
          "x1": "2024-10-22T15:36:00",
          "y0": 0.65,
          "y1": 1.35
         },
         {
          "fillcolor": "rgba(200,255,31,0.35)",
          "layer": "below",
          "line": {
           "width": 0
          },
          "type": "rect",
          "x0": "2024-10-22T15:36:00",
          "x1": "2024-10-22T16:48:00",
          "y0": 0.65,
          "y1": 1.35
         },
         {
          "fillcolor": "rgba(199,255,31,0.35)",
          "layer": "below",
          "line": {
           "width": 0
          },
          "type": "rect",
          "x0": "2024-10-22T16:48:00",
          "x1": "2024-10-22T18:00:00",
          "y0": 0.65,
          "y1": 1.35
         },
         {
          "fillcolor": "rgba(197,255,32,0.35)",
          "layer": "below",
          "line": {
           "width": 0
          },
          "type": "rect",
          "x0": "2024-10-22T18:00:00",
          "x1": "2024-10-22T19:12:00",
          "y0": 0.65,
          "y1": 1.35
         },
         {
          "fillcolor": "rgba(195,255,33,0.35)",
          "layer": "below",
          "line": {
           "width": 0
          },
          "type": "rect",
          "x0": "2024-10-22T19:12:00",
          "x1": "2024-10-22T20:24:00",
          "y0": 0.65,
          "y1": 1.35
         },
         {
          "fillcolor": "rgba(194,255,34,0.35)",
          "layer": "below",
          "line": {
           "width": 0
          },
          "type": "rect",
          "x0": "2024-10-22T20:24:00",
          "x1": "2024-10-22T21:36:00",
          "y0": 0.65,
          "y1": 1.35
         },
         {
          "fillcolor": "rgba(192,255,35,0.35)",
          "layer": "below",
          "line": {
           "width": 0
          },
          "type": "rect",
          "x0": "2024-10-22T21:36:00",
          "x1": "2024-10-22T22:48:00",
          "y0": 0.65,
          "y1": 1.35
         },
         {
          "fillcolor": "rgba(191,255,36,0.35)",
          "layer": "below",
          "line": {
           "width": 0
          },
          "type": "rect",
          "x0": "2024-10-22T22:48:00",
          "x1": "2024-10-23T00:00:00",
          "y0": 0.65,
          "y1": 1.35
         },
         {
          "fillcolor": "rgba(189,255,37,0.35)",
          "layer": "below",
          "line": {
           "width": 0
          },
          "type": "rect",
          "x0": "2024-10-20T00:00:00",
          "x1": "2024-10-20T01:12:00",
          "y0": 1.65,
          "y1": 2.35
         },
         {
          "fillcolor": "rgba(191,255,36,0.35)",
          "layer": "below",
          "line": {
           "width": 0
          },
          "type": "rect",
          "x0": "2024-10-20T01:12:00",
          "x1": "2024-10-20T02:24:00",
          "y0": 1.65,
          "y1": 2.35
         },
         {
          "fillcolor": "rgba(192,255,35,0.35)",
          "layer": "below",
          "line": {
           "width": 0
          },
          "type": "rect",
          "x0": "2024-10-20T02:24:00",
          "x1": "2024-10-20T03:36:00",
          "y0": 1.65,
          "y1": 2.35
         },
         {
          "fillcolor": "rgba(194,255,34,0.35)",
          "layer": "below",
          "line": {
           "width": 0
          },
          "type": "rect",
          "x0": "2024-10-20T03:36:00",
          "x1": "2024-10-20T04:48:00",
          "y0": 1.65,
          "y1": 2.35
         },
         {
          "fillcolor": "rgba(195,255,33,0.35)",
          "layer": "below",
          "line": {
           "width": 0
          },
          "type": "rect",
          "x0": "2024-10-20T04:48:00",
          "x1": "2024-10-20T06:00:00",
          "y0": 1.65,
          "y1": 2.35
         },
         {
          "fillcolor": "rgba(197,255,32,0.35)",
          "layer": "below",
          "line": {
           "width": 0
          },
          "type": "rect",
          "x0": "2024-10-20T06:00:00",
          "x1": "2024-10-20T07:12:00",
          "y0": 1.65,
          "y1": 2.35
         },
         {
          "fillcolor": "rgba(199,255,31,0.35)",
          "layer": "below",
          "line": {
           "width": 0
          },
          "type": "rect",
          "x0": "2024-10-20T07:12:00",
          "x1": "2024-10-20T08:24:00",
          "y0": 1.65,
          "y1": 2.35
         },
         {
          "fillcolor": "rgba(200,255,31,0.35)",
          "layer": "below",
          "line": {
           "width": 0
          },
          "type": "rect",
          "x0": "2024-10-20T08:24:00",
          "x1": "2024-10-20T09:36:00",
          "y0": 1.65,
          "y1": 2.35
         },
         {
          "fillcolor": "rgba(202,255,30,0.35)",
          "layer": "below",
          "line": {
           "width": 0
          },
          "type": "rect",
          "x0": "2024-10-20T09:36:00",
          "x1": "2024-10-20T10:48:00",
          "y0": 1.65,
          "y1": 2.35
         },
         {
          "fillcolor": "rgba(204,255,29,0.35)",
          "layer": "below",
          "line": {
           "width": 0
          },
          "type": "rect",
          "x0": "2024-10-20T10:48:00",
          "x1": "2024-10-20T12:00:00",
          "y0": 1.65,
          "y1": 2.35
         },
         {
          "fillcolor": "rgba(205,255,28,0.35)",
          "layer": "below",
          "line": {
           "width": 0
          },
          "type": "rect",
          "x0": "2024-10-20T12:00:00",
          "x1": "2024-10-20T13:12:00",
          "y0": 1.65,
          "y1": 2.35
         },
         {
          "fillcolor": "rgba(207,255,27,0.35)",
          "layer": "below",
          "line": {
           "width": 0
          },
          "type": "rect",
          "x0": "2024-10-20T13:12:00",
          "x1": "2024-10-20T14:24:00",
          "y0": 1.65,
          "y1": 2.35
         },
         {
          "fillcolor": "rgba(209,255,26,0.35)",
          "layer": "below",
          "line": {
           "width": 0
          },
          "type": "rect",
          "x0": "2024-10-20T14:24:00",
          "x1": "2024-10-20T15:36:00",
          "y0": 1.65,
          "y1": 2.35
         },
         {
          "fillcolor": "rgba(210,255,25,0.35)",
          "layer": "below",
          "line": {
           "width": 0
          },
          "type": "rect",
          "x0": "2024-10-20T15:36:00",
          "x1": "2024-10-20T16:48:00",
          "y0": 1.65,
          "y1": 2.35
         },
         {
          "fillcolor": "rgba(212,255,24,0.35)",
          "layer": "below",
          "line": {
           "width": 0
          },
          "type": "rect",
          "x0": "2024-10-20T16:48:00",
          "x1": "2024-10-20T18:00:00",
          "y0": 1.65,
          "y1": 2.35
         },
         {
          "fillcolor": "rgba(214,255,23,0.35)",
          "layer": "below",
          "line": {
           "width": 0
          },
          "type": "rect",
          "x0": "2024-10-20T18:00:00",
          "x1": "2024-10-20T19:12:00",
          "y0": 1.65,
          "y1": 2.35
         },
         {
          "fillcolor": "rgba(215,255,22,0.35)",
          "layer": "below",
          "line": {
           "width": 0
          },
          "type": "rect",
          "x0": "2024-10-20T19:12:00",
          "x1": "2024-10-20T20:24:00",
          "y0": 1.65,
          "y1": 2.35
         },
         {
          "fillcolor": "rgba(217,255,21,0.35)",
          "layer": "below",
          "line": {
           "width": 0
          },
          "type": "rect",
          "x0": "2024-10-20T20:24:00",
          "x1": "2024-10-20T21:36:00",
          "y0": 1.65,
          "y1": 2.35
         },
         {
          "fillcolor": "rgba(218,255,20,0.35)",
          "layer": "below",
          "line": {
           "width": 0
          },
          "type": "rect",
          "x0": "2024-10-20T21:36:00",
          "x1": "2024-10-20T22:48:00",
          "y0": 1.65,
          "y1": 2.35
         },
         {
          "fillcolor": "rgba(220,255,19,0.35)",
          "layer": "below",
          "line": {
           "width": 0
          },
          "type": "rect",
          "x0": "2024-10-20T22:48:00",
          "x1": "2024-10-21T00:00:00",
          "y0": 1.65,
          "y1": 2.35
         },
         {
          "fillcolor": "rgba(222,255,18,0.35)",
          "layer": "below",
          "line": {
           "width": 0
          },
          "type": "rect",
          "x0": "2024-10-21T00:00:00",
          "x1": "2024-10-21T01:12:00",
          "y0": 1.65,
          "y1": 2.35
         },
         {
          "fillcolor": "rgba(223,255,17,0.35)",
          "layer": "below",
          "line": {
           "width": 0
          },
          "type": "rect",
          "x0": "2024-10-21T01:12:00",
          "x1": "2024-10-21T02:24:00",
          "y0": 1.65,
          "y1": 2.35
         },
         {
          "fillcolor": "rgba(225,255,16,0.35)",
          "layer": "below",
          "line": {
           "width": 0
          },
          "type": "rect",
          "x0": "2024-10-21T02:24:00",
          "x1": "2024-10-21T03:36:00",
          "y0": 1.65,
          "y1": 2.35
         },
         {
          "fillcolor": "rgba(227,255,15,0.35)",
          "layer": "below",
          "line": {
           "width": 0
          },
          "type": "rect",
          "x0": "2024-10-21T03:36:00",
          "x1": "2024-10-21T04:48:00",
          "y0": 1.65,
          "y1": 2.35
         },
         {
          "fillcolor": "rgba(228,255,15,0.35)",
          "layer": "below",
          "line": {
           "width": 0
          },
          "type": "rect",
          "x0": "2024-10-21T04:48:00",
          "x1": "2024-10-21T06:00:00",
          "y0": 1.65,
          "y1": 2.35
         },
         {
          "fillcolor": "rgba(230,255,14,0.35)",
          "layer": "below",
          "line": {
           "width": 0
          },
          "type": "rect",
          "x0": "2024-10-21T06:00:00",
          "x1": "2024-10-21T07:12:00",
          "y0": 1.65,
          "y1": 2.35
         },
         {
          "fillcolor": "rgba(232,255,13,0.35)",
          "layer": "below",
          "line": {
           "width": 0
          },
          "type": "rect",
          "x0": "2024-10-21T07:12:00",
          "x1": "2024-10-21T08:24:00",
          "y0": 1.65,
          "y1": 2.35
         },
         {
          "fillcolor": "rgba(233,255,12,0.35)",
          "layer": "below",
          "line": {
           "width": 0
          },
          "type": "rect",
          "x0": "2024-10-21T08:24:00",
          "x1": "2024-10-21T09:36:00",
          "y0": 1.65,
          "y1": 2.35
         },
         {
          "fillcolor": "rgba(235,255,11,0.35)",
          "layer": "below",
          "line": {
           "width": 0
          },
          "type": "rect",
          "x0": "2024-10-21T09:36:00",
          "x1": "2024-10-21T10:48:00",
          "y0": 1.65,
          "y1": 2.35
         },
         {
          "fillcolor": "rgba(236,255,10,0.35)",
          "layer": "below",
          "line": {
           "width": 0
          },
          "type": "rect",
          "x0": "2024-10-21T10:48:00",
          "x1": "2024-10-21T12:00:00",
          "y0": 1.65,
          "y1": 2.35
         },
         {
          "fillcolor": "rgba(238,255,9,0.35)",
          "layer": "below",
          "line": {
           "width": 0
          },
          "type": "rect",
          "x0": "2024-10-21T12:00:00",
          "x1": "2024-10-21T13:12:00",
          "y0": 1.65,
          "y1": 2.35
         },
         {
          "fillcolor": "rgba(240,255,8,0.35)",
          "layer": "below",
          "line": {
           "width": 0
          },
          "type": "rect",
          "x0": "2024-10-21T13:12:00",
          "x1": "2024-10-21T14:24:00",
          "y0": 1.65,
          "y1": 2.35
         },
         {
          "fillcolor": "rgba(241,255,7,0.35)",
          "layer": "below",
          "line": {
           "width": 0
          },
          "type": "rect",
          "x0": "2024-10-21T14:24:00",
          "x1": "2024-10-21T15:36:00",
          "y0": 1.65,
          "y1": 2.35
         },
         {
          "fillcolor": "rgba(243,255,6,0.35)",
          "layer": "below",
          "line": {
           "width": 0
          },
          "type": "rect",
          "x0": "2024-10-21T15:36:00",
          "x1": "2024-10-21T16:48:00",
          "y0": 1.65,
          "y1": 2.35
         },
         {
          "fillcolor": "rgba(245,255,5,0.35)",
          "layer": "below",
          "line": {
           "width": 0
          },
          "type": "rect",
          "x0": "2024-10-21T16:48:00",
          "x1": "2024-10-21T18:00:00",
          "y0": 1.65,
          "y1": 2.35
         },
         {
          "fillcolor": "rgba(246,255,4,0.35)",
          "layer": "below",
          "line": {
           "width": 0
          },
          "type": "rect",
          "x0": "2024-10-21T18:00:00",
          "x1": "2024-10-21T19:12:00",
          "y0": 1.65,
          "y1": 2.35
         },
         {
          "fillcolor": "rgba(248,255,3,0.35)",
          "layer": "below",
          "line": {
           "width": 0
          },
          "type": "rect",
          "x0": "2024-10-21T19:12:00",
          "x1": "2024-10-21T20:24:00",
          "y0": 1.65,
          "y1": 2.35
         },
         {
          "fillcolor": "rgba(250,255,2,0.35)",
          "layer": "below",
          "line": {
           "width": 0
          },
          "type": "rect",
          "x0": "2024-10-21T20:24:00",
          "x1": "2024-10-21T21:36:00",
          "y0": 1.65,
          "y1": 2.35
         },
         {
          "fillcolor": "rgba(251,255,1,0.35)",
          "layer": "below",
          "line": {
           "width": 0
          },
          "type": "rect",
          "x0": "2024-10-21T21:36:00",
          "x1": "2024-10-21T22:48:00",
          "y0": 1.65,
          "y1": 2.35
         },
         {
          "fillcolor": "rgba(253,255,0,0.35)",
          "layer": "below",
          "line": {
           "width": 0
          },
          "type": "rect",
          "x0": "2024-10-21T22:48:00",
          "x1": "2024-10-22T00:00:00",
          "y0": 1.65,
          "y1": 2.35
         },
         {
          "fillcolor": "rgba(255,255,0,0.35)",
          "layer": "below",
          "line": {
           "width": 0
          },
          "type": "rect",
          "x0": "2024-10-22T00:00:00",
          "x1": "2024-10-22T01:12:00",
          "y0": 1.65,
          "y1": 2.35
         },
         {
          "fillcolor": "rgba(255,251,0,0.35)",
          "layer": "below",
          "line": {
           "width": 0
          },
          "type": "rect",
          "x0": "2024-10-22T01:12:00",
          "x1": "2024-10-22T02:24:00",
          "y0": 1.65,
          "y1": 2.35
         },
         {
          "fillcolor": "rgba(255,247,0,0.35)",
          "layer": "below",
          "line": {
           "width": 0
          },
          "type": "rect",
          "x0": "2024-10-22T02:24:00",
          "x1": "2024-10-22T03:36:00",
          "y0": 1.65,
          "y1": 2.35
         },
         {
          "fillcolor": "rgba(255,244,0,0.35)",
          "layer": "below",
          "line": {
           "width": 0
          },
          "type": "rect",
          "x0": "2024-10-22T03:36:00",
          "x1": "2024-10-22T04:48:00",
          "y0": 1.65,
          "y1": 2.35
         },
         {
          "fillcolor": "rgba(255,240,0,0.35)",
          "layer": "below",
          "line": {
           "width": 0
          },
          "type": "rect",
          "x0": "2024-10-22T04:48:00",
          "x1": "2024-10-22T06:00:00",
          "y0": 1.65,
          "y1": 2.35
         },
         {
          "fillcolor": "rgba(255,237,0,0.35)",
          "layer": "below",
          "line": {
           "width": 0
          },
          "type": "rect",
          "x0": "2024-10-22T06:00:00",
          "x1": "2024-10-22T07:12:00",
          "y0": 1.65,
          "y1": 2.35
         },
         {
          "fillcolor": "rgba(255,233,0,0.35)",
          "layer": "below",
          "line": {
           "width": 0
          },
          "type": "rect",
          "x0": "2024-10-22T07:12:00",
          "x1": "2024-10-22T08:24:00",
          "y0": 1.65,
          "y1": 2.35
         },
         {
          "fillcolor": "rgba(255,229,0,0.35)",
          "layer": "below",
          "line": {
           "width": 0
          },
          "type": "rect",
          "x0": "2024-10-22T08:24:00",
          "x1": "2024-10-22T09:36:00",
          "y0": 1.65,
          "y1": 2.35
         },
         {
          "fillcolor": "rgba(255,226,0,0.35)",
          "layer": "below",
          "line": {
           "width": 0
          },
          "type": "rect",
          "x0": "2024-10-22T09:36:00",
          "x1": "2024-10-22T10:48:00",
          "y0": 1.65,
          "y1": 2.35
         },
         {
          "fillcolor": "rgba(255,222,0,0.35)",
          "layer": "below",
          "line": {
           "width": 0
          },
          "type": "rect",
          "x0": "2024-10-22T10:48:00",
          "x1": "2024-10-22T12:00:00",
          "y0": 1.65,
          "y1": 2.35
         },
         {
          "fillcolor": "rgba(255,219,0,0.35)",
          "layer": "below",
          "line": {
           "width": 0
          },
          "type": "rect",
          "x0": "2024-10-22T12:00:00",
          "x1": "2024-10-22T13:12:00",
          "y0": 1.65,
          "y1": 2.35
         },
         {
          "fillcolor": "rgba(255,215,0,0.35)",
          "layer": "below",
          "line": {
           "width": 0
          },
          "type": "rect",
          "x0": "2024-10-22T13:12:00",
          "x1": "2024-10-22T14:24:00",
          "y0": 1.65,
          "y1": 2.35
         },
         {
          "fillcolor": "rgba(255,211,0,0.35)",
          "layer": "below",
          "line": {
           "width": 0
          },
          "type": "rect",
          "x0": "2024-10-22T14:24:00",
          "x1": "2024-10-22T15:36:00",
          "y0": 1.65,
          "y1": 2.35
         },
         {
          "fillcolor": "rgba(255,208,0,0.35)",
          "layer": "below",
          "line": {
           "width": 0
          },
          "type": "rect",
          "x0": "2024-10-22T15:36:00",
          "x1": "2024-10-22T16:48:00",
          "y0": 1.65,
          "y1": 2.35
         },
         {
          "fillcolor": "rgba(255,204,0,0.35)",
          "layer": "below",
          "line": {
           "width": 0
          },
          "type": "rect",
          "x0": "2024-10-22T16:48:00",
          "x1": "2024-10-22T18:00:00",
          "y0": 1.65,
          "y1": 2.35
         },
         {
          "fillcolor": "rgba(255,201,0,0.35)",
          "layer": "below",
          "line": {
           "width": 0
          },
          "type": "rect",
          "x0": "2024-10-22T18:00:00",
          "x1": "2024-10-22T19:12:00",
          "y0": 1.65,
          "y1": 2.35
         },
         {
          "fillcolor": "rgba(255,197,0,0.35)",
          "layer": "below",
          "line": {
           "width": 0
          },
          "type": "rect",
          "x0": "2024-10-22T19:12:00",
          "x1": "2024-10-22T20:24:00",
          "y0": 1.65,
          "y1": 2.35
         },
         {
          "fillcolor": "rgba(255,193,0,0.35)",
          "layer": "below",
          "line": {
           "width": 0
          },
          "type": "rect",
          "x0": "2024-10-22T20:24:00",
          "x1": "2024-10-22T21:36:00",
          "y0": 1.65,
          "y1": 2.35
         },
         {
          "fillcolor": "rgba(255,190,0,0.35)",
          "layer": "below",
          "line": {
           "width": 0
          },
          "type": "rect",
          "x0": "2024-10-22T21:36:00",
          "x1": "2024-10-22T22:48:00",
          "y0": 1.65,
          "y1": 2.35
         },
         {
          "fillcolor": "rgba(255,186,0,0.35)",
          "layer": "below",
          "line": {
           "width": 0
          },
          "type": "rect",
          "x0": "2024-10-22T22:48:00",
          "x1": "2024-10-23T00:00:00",
          "y0": 1.65,
          "y1": 2.35
         }
        ],
        "showlegend": false,
        "template": {
         "data": {
          "bar": [
           {
            "error_x": {
             "color": "#2a3f5f"
            },
            "error_y": {
             "color": "#2a3f5f"
            },
            "marker": {
             "line": {
              "color": "#E5ECF6",
              "width": 0.5
             },
             "pattern": {
              "fillmode": "overlay",
              "size": 10,
              "solidity": 0.2
             }
            },
            "type": "bar"
           }
          ],
          "barpolar": [
           {
            "marker": {
             "line": {
              "color": "#E5ECF6",
              "width": 0.5
             },
             "pattern": {
              "fillmode": "overlay",
              "size": 10,
              "solidity": 0.2
             }
            },
            "type": "barpolar"
           }
          ],
          "carpet": [
           {
            "aaxis": {
             "endlinecolor": "#2a3f5f",
             "gridcolor": "white",
             "linecolor": "white",
             "minorgridcolor": "white",
             "startlinecolor": "#2a3f5f"
            },
            "baxis": {
             "endlinecolor": "#2a3f5f",
             "gridcolor": "white",
             "linecolor": "white",
             "minorgridcolor": "white",
             "startlinecolor": "#2a3f5f"
            },
            "type": "carpet"
           }
          ],
          "choropleth": [
           {
            "colorbar": {
             "outlinewidth": 0,
             "ticks": ""
            },
            "type": "choropleth"
           }
          ],
          "contour": [
           {
            "colorbar": {
             "outlinewidth": 0,
             "ticks": ""
            },
            "colorscale": [
             [
              0,
              "#0d0887"
             ],
             [
              0.1111111111111111,
              "#46039f"
             ],
             [
              0.2222222222222222,
              "#7201a8"
             ],
             [
              0.3333333333333333,
              "#9c179e"
             ],
             [
              0.4444444444444444,
              "#bd3786"
             ],
             [
              0.5555555555555556,
              "#d8576b"
             ],
             [
              0.6666666666666666,
              "#ed7953"
             ],
             [
              0.7777777777777778,
              "#fb9f3a"
             ],
             [
              0.8888888888888888,
              "#fdca26"
             ],
             [
              1,
              "#f0f921"
             ]
            ],
            "type": "contour"
           }
          ],
          "contourcarpet": [
           {
            "colorbar": {
             "outlinewidth": 0,
             "ticks": ""
            },
            "type": "contourcarpet"
           }
          ],
          "heatmap": [
           {
            "colorbar": {
             "outlinewidth": 0,
             "ticks": ""
            },
            "colorscale": [
             [
              0,
              "#0d0887"
             ],
             [
              0.1111111111111111,
              "#46039f"
             ],
             [
              0.2222222222222222,
              "#7201a8"
             ],
             [
              0.3333333333333333,
              "#9c179e"
             ],
             [
              0.4444444444444444,
              "#bd3786"
             ],
             [
              0.5555555555555556,
              "#d8576b"
             ],
             [
              0.6666666666666666,
              "#ed7953"
             ],
             [
              0.7777777777777778,
              "#fb9f3a"
             ],
             [
              0.8888888888888888,
              "#fdca26"
             ],
             [
              1,
              "#f0f921"
             ]
            ],
            "type": "heatmap"
           }
          ],
          "heatmapgl": [
           {
            "colorbar": {
             "outlinewidth": 0,
             "ticks": ""
            },
            "colorscale": [
             [
              0,
              "#0d0887"
             ],
             [
              0.1111111111111111,
              "#46039f"
             ],
             [
              0.2222222222222222,
              "#7201a8"
             ],
             [
              0.3333333333333333,
              "#9c179e"
             ],
             [
              0.4444444444444444,
              "#bd3786"
             ],
             [
              0.5555555555555556,
              "#d8576b"
             ],
             [
              0.6666666666666666,
              "#ed7953"
             ],
             [
              0.7777777777777778,
              "#fb9f3a"
             ],
             [
              0.8888888888888888,
              "#fdca26"
             ],
             [
              1,
              "#f0f921"
             ]
            ],
            "type": "heatmapgl"
           }
          ],
          "histogram": [
           {
            "marker": {
             "pattern": {
              "fillmode": "overlay",
              "size": 10,
              "solidity": 0.2
             }
            },
            "type": "histogram"
           }
          ],
          "histogram2d": [
           {
            "colorbar": {
             "outlinewidth": 0,
             "ticks": ""
            },
            "colorscale": [
             [
              0,
              "#0d0887"
             ],
             [
              0.1111111111111111,
              "#46039f"
             ],
             [
              0.2222222222222222,
              "#7201a8"
             ],
             [
              0.3333333333333333,
              "#9c179e"
             ],
             [
              0.4444444444444444,
              "#bd3786"
             ],
             [
              0.5555555555555556,
              "#d8576b"
             ],
             [
              0.6666666666666666,
              "#ed7953"
             ],
             [
              0.7777777777777778,
              "#fb9f3a"
             ],
             [
              0.8888888888888888,
              "#fdca26"
             ],
             [
              1,
              "#f0f921"
             ]
            ],
            "type": "histogram2d"
           }
          ],
          "histogram2dcontour": [
           {
            "colorbar": {
             "outlinewidth": 0,
             "ticks": ""
            },
            "colorscale": [
             [
              0,
              "#0d0887"
             ],
             [
              0.1111111111111111,
              "#46039f"
             ],
             [
              0.2222222222222222,
              "#7201a8"
             ],
             [
              0.3333333333333333,
              "#9c179e"
             ],
             [
              0.4444444444444444,
              "#bd3786"
             ],
             [
              0.5555555555555556,
              "#d8576b"
             ],
             [
              0.6666666666666666,
              "#ed7953"
             ],
             [
              0.7777777777777778,
              "#fb9f3a"
             ],
             [
              0.8888888888888888,
              "#fdca26"
             ],
             [
              1,
              "#f0f921"
             ]
            ],
            "type": "histogram2dcontour"
           }
          ],
          "mesh3d": [
           {
            "colorbar": {
             "outlinewidth": 0,
             "ticks": ""
            },
            "type": "mesh3d"
           }
          ],
          "parcoords": [
           {
            "line": {
             "colorbar": {
              "outlinewidth": 0,
              "ticks": ""
             }
            },
            "type": "parcoords"
           }
          ],
          "pie": [
           {
            "automargin": true,
            "type": "pie"
           }
          ],
          "scatter": [
           {
            "fillpattern": {
             "fillmode": "overlay",
             "size": 10,
             "solidity": 0.2
            },
            "type": "scatter"
           }
          ],
          "scatter3d": [
           {
            "line": {
             "colorbar": {
              "outlinewidth": 0,
              "ticks": ""
             }
            },
            "marker": {
             "colorbar": {
              "outlinewidth": 0,
              "ticks": ""
             }
            },
            "type": "scatter3d"
           }
          ],
          "scattercarpet": [
           {
            "marker": {
             "colorbar": {
              "outlinewidth": 0,
              "ticks": ""
             }
            },
            "type": "scattercarpet"
           }
          ],
          "scattergeo": [
           {
            "marker": {
             "colorbar": {
              "outlinewidth": 0,
              "ticks": ""
             }
            },
            "type": "scattergeo"
           }
          ],
          "scattergl": [
           {
            "marker": {
             "colorbar": {
              "outlinewidth": 0,
              "ticks": ""
             }
            },
            "type": "scattergl"
           }
          ],
          "scattermapbox": [
           {
            "marker": {
             "colorbar": {
              "outlinewidth": 0,
              "ticks": ""
             }
            },
            "type": "scattermapbox"
           }
          ],
          "scatterpolar": [
           {
            "marker": {
             "colorbar": {
              "outlinewidth": 0,
              "ticks": ""
             }
            },
            "type": "scatterpolar"
           }
          ],
          "scatterpolargl": [
           {
            "marker": {
             "colorbar": {
              "outlinewidth": 0,
              "ticks": ""
             }
            },
            "type": "scatterpolargl"
           }
          ],
          "scatterternary": [
           {
            "marker": {
             "colorbar": {
              "outlinewidth": 0,
              "ticks": ""
             }
            },
            "type": "scatterternary"
           }
          ],
          "surface": [
           {
            "colorbar": {
             "outlinewidth": 0,
             "ticks": ""
            },
            "colorscale": [
             [
              0,
              "#0d0887"
             ],
             [
              0.1111111111111111,
              "#46039f"
             ],
             [
              0.2222222222222222,
              "#7201a8"
             ],
             [
              0.3333333333333333,
              "#9c179e"
             ],
             [
              0.4444444444444444,
              "#bd3786"
             ],
             [
              0.5555555555555556,
              "#d8576b"
             ],
             [
              0.6666666666666666,
              "#ed7953"
             ],
             [
              0.7777777777777778,
              "#fb9f3a"
             ],
             [
              0.8888888888888888,
              "#fdca26"
             ],
             [
              1,
              "#f0f921"
             ]
            ],
            "type": "surface"
           }
          ],
          "table": [
           {
            "cells": {
             "fill": {
              "color": "#EBF0F8"
             },
             "line": {
              "color": "white"
             }
            },
            "header": {
             "fill": {
              "color": "#C8D4E3"
             },
             "line": {
              "color": "white"
             }
            },
            "type": "table"
           }
          ]
         },
         "layout": {
          "annotationdefaults": {
           "arrowcolor": "#2a3f5f",
           "arrowhead": 0,
           "arrowwidth": 1
          },
          "autotypenumbers": "strict",
          "coloraxis": {
           "colorbar": {
            "outlinewidth": 0,
            "ticks": ""
           }
          },
          "colorscale": {
           "diverging": [
            [
             0,
             "#8e0152"
            ],
            [
             0.1,
             "#c51b7d"
            ],
            [
             0.2,
             "#de77ae"
            ],
            [
             0.3,
             "#f1b6da"
            ],
            [
             0.4,
             "#fde0ef"
            ],
            [
             0.5,
             "#f7f7f7"
            ],
            [
             0.6,
             "#e6f5d0"
            ],
            [
             0.7,
             "#b8e186"
            ],
            [
             0.8,
             "#7fbc41"
            ],
            [
             0.9,
             "#4d9221"
            ],
            [
             1,
             "#276419"
            ]
           ],
           "sequential": [
            [
             0,
             "#0d0887"
            ],
            [
             0.1111111111111111,
             "#46039f"
            ],
            [
             0.2222222222222222,
             "#7201a8"
            ],
            [
             0.3333333333333333,
             "#9c179e"
            ],
            [
             0.4444444444444444,
             "#bd3786"
            ],
            [
             0.5555555555555556,
             "#d8576b"
            ],
            [
             0.6666666666666666,
             "#ed7953"
            ],
            [
             0.7777777777777778,
             "#fb9f3a"
            ],
            [
             0.8888888888888888,
             "#fdca26"
            ],
            [
             1,
             "#f0f921"
            ]
           ],
           "sequentialminus": [
            [
             0,
             "#0d0887"
            ],
            [
             0.1111111111111111,
             "#46039f"
            ],
            [
             0.2222222222222222,
             "#7201a8"
            ],
            [
             0.3333333333333333,
             "#9c179e"
            ],
            [
             0.4444444444444444,
             "#bd3786"
            ],
            [
             0.5555555555555556,
             "#d8576b"
            ],
            [
             0.6666666666666666,
             "#ed7953"
            ],
            [
             0.7777777777777778,
             "#fb9f3a"
            ],
            [
             0.8888888888888888,
             "#fdca26"
            ],
            [
             1,
             "#f0f921"
            ]
           ]
          },
          "colorway": [
           "#636efa",
           "#EF553B",
           "#00cc96",
           "#ab63fa",
           "#FFA15A",
           "#19d3f3",
           "#FF6692",
           "#B6E880",
           "#FF97FF",
           "#FECB52"
          ],
          "font": {
           "color": "#2a3f5f"
          },
          "geo": {
           "bgcolor": "white",
           "lakecolor": "white",
           "landcolor": "#E5ECF6",
           "showlakes": true,
           "showland": true,
           "subunitcolor": "white"
          },
          "hoverlabel": {
           "align": "left"
          },
          "hovermode": "closest",
          "mapbox": {
           "style": "light"
          },
          "paper_bgcolor": "white",
          "plot_bgcolor": "#E5ECF6",
          "polar": {
           "angularaxis": {
            "gridcolor": "white",
            "linecolor": "white",
            "ticks": ""
           },
           "bgcolor": "#E5ECF6",
           "radialaxis": {
            "gridcolor": "white",
            "linecolor": "white",
            "ticks": ""
           }
          },
          "scene": {
           "xaxis": {
            "backgroundcolor": "#E5ECF6",
            "gridcolor": "white",
            "gridwidth": 2,
            "linecolor": "white",
            "showbackground": true,
            "ticks": "",
            "zerolinecolor": "white"
           },
           "yaxis": {
            "backgroundcolor": "#E5ECF6",
            "gridcolor": "white",
            "gridwidth": 2,
            "linecolor": "white",
            "showbackground": true,
            "ticks": "",
            "zerolinecolor": "white"
           },
           "zaxis": {
            "backgroundcolor": "#E5ECF6",
            "gridcolor": "white",
            "gridwidth": 2,
            "linecolor": "white",
            "showbackground": true,
            "ticks": "",
            "zerolinecolor": "white"
           }
          },
          "shapedefaults": {
           "line": {
            "color": "#2a3f5f"
           }
          },
          "ternary": {
           "aaxis": {
            "gridcolor": "white",
            "linecolor": "white",
            "ticks": ""
           },
           "baxis": {
            "gridcolor": "white",
            "linecolor": "white",
            "ticks": ""
           },
           "bgcolor": "#E5ECF6",
           "caxis": {
            "gridcolor": "white",
            "linecolor": "white",
            "ticks": ""
           }
          },
          "title": {
           "x": 0.05
          },
          "xaxis": {
           "automargin": true,
           "gridcolor": "white",
           "linecolor": "white",
           "ticks": "",
           "title": {
            "standoff": 15
           },
           "zerolinecolor": "white",
           "zerolinewidth": 2
          },
          "yaxis": {
           "automargin": true,
           "gridcolor": "white",
           "linecolor": "white",
           "ticks": "",
           "title": {
            "standoff": 15
           },
           "zerolinecolor": "white",
           "zerolinewidth": 2
          }
         }
        },
        "title": {
         "font": {
          "color": "#2d3436",
          "size": 24
         },
         "text": "Symptom Intensity Timeline",
         "x": 0.5,
         "y": 0.95
        },
        "xaxis": {
         "gridcolor": "rgba(128,128,128,0.1)",
         "gridwidth": 1,
         "linecolor": "rgba(128,128,128,0.4)",
         "minor": {
          "gridcolor": "rgba(128,128,128,0.05)",
          "gridwidth": 0.5,
          "showgrid": true
         },
         "range": [
          "2024-10-01T00:00:00",
          "2024-10-27T00:00:00"
         ],
         "showgrid": true,
         "title": {
          "font": {
           "size": 14
          },
          "text": "Timeline"
         },
         "type": "date",
         "zeroline": false
        },
        "yaxis": {
         "categoryarray": [
          "leg pain",
          "sleep disturbance",
          "nerve pain"
         ],
         "categoryorder": "array",
         "gridcolor": "rgba(128,128,128,0.1)",
         "gridwidth": 1,
         "linecolor": "rgba(128,128,128,0.4)",
         "showgrid": true,
         "ticktext": [
          "leg pain",
          "sleep disturbance",
          "nerve pain"
         ],
         "tickvals": [
          0,
          1,
          2
         ],
         "title": {
          "font": {
           "size": 14
          },
          "text": "Symptoms"
         },
         "zeroline": false
        }
       }
      }
     },
     "metadata": {},
     "output_type": "display_data"
    }
   ],
   "source": [
    "import pandas as pd\n",
    "import plotly.graph_objects as go\n",
    "\n",
    "data = [\n",
    "    {\"symptom\": \"leg pain\", \"date\": \"2024-10-01\", \"is_active\": True, \"intensity\": 0.9, \"reason\": \"Patient reports severe leg pain, difficulty walking\"},\n",
    "    {\"symptom\": \"leg pain\", \"date\": \"2024-10-02\", \"is_active\": True, \"intensity\": 0.7, \"reason\": \"Leg pain continues but slightly improved with prescribed medication\"},\n",
    "    {\"symptom\": \"leg pain\", \"date\": \"2024-10-03\", \"is_active\": True, \"intensity\": 0.5, \"reason\": \"Moderate leg pain, patient able to walk short distances\"},\n",
    "    {\"symptom\": \"leg pain\", \"date\": \"2024-10-04\", \"is_active\": False, \"intensity\": 0.0, \"reason\": \"No leg pain reported today\"},\n",
    "    {\"symptom\": \"leg pain\", \"date\": \"2024-10-05\", \"is_active\": False, \"intensity\": 0.0, \"reason\": \"Patient remains pain free\"},\n",
    "    {\"symptom\": \"leg pain\", \"date\": \"2024-10-06\", \"is_active\": False, \"intensity\": 0.0, \"reason\": \"No leg pain symptoms\"},\n",
    "    {\"symptom\": \"leg pain\", \"date\": \"2024-10-07\", \"is_active\": True, \"intensity\": 0.6, \"reason\": \"Leg pain has returned, moderate intensity\"},\n",
    "    {\"symptom\": \"leg pain\", \"date\": \"2024-10-08\", \"is_active\": True, \"intensity\": 0.8, \"reason\": \"Significant increase in leg pain, limiting mobility\"},\n",
    "    {\"symptom\": \"leg pain\", \"date\": \"2024-10-09\", \"is_active\": True, \"intensity\": 0.7, \"reason\": \"Leg pain remains high but slightly improved from yesterday\"},\n",
    "    {\"symptom\": \"leg pain\", \"date\": \"2024-10-10\", \"is_active\": False, \"intensity\": 0.0, \"reason\": \"Pain has subsided completely\"},\n",
    "    {\"symptom\": \"leg pain\", \"date\": \"2024-10-11\", \"is_active\": False, \"intensity\": 0.0, \"reason\": \"No pain reported\"},\n",
    "    {\"symptom\": \"leg pain\", \"date\": \"2024-10-12\", \"is_active\": True, \"intensity\": 0.4, \"reason\": \"Mild leg pain has returned\"},\n",
    "    {\"symptom\": \"leg pain\", \"date\": \"2024-10-13\", \"is_active\": True, \"intensity\": 0.3, \"reason\": \"Minimal leg pain, well controlled\"},\n",
    "    {\"symptom\": \"leg pain\", \"date\": \"2024-10-14\", \"is_active\": True, \"intensity\": 0.2, \"reason\": \"Very mild leg pain, continuing to improve\"},\n",
    "\n",
    "    {\"symptom\": \"sleep disturbance\", \"date\": \"2024-10-15\", \"is_active\": True, \"intensity\": 0.5, \"reason\": \"Patient reports moderate difficulty falling asleep\"},\n",
    "    {\"symptom\": \"sleep disturbance\", \"date\": \"2024-10-16\", \"is_active\": True, \"intensity\": 0.6, \"reason\": \"Sleep issues worsening, waking up multiple times\"},\n",
    "    {\"symptom\": \"sleep disturbance\", \"date\": \"2024-10-17\", \"is_active\": True, \"intensity\": 0.7, \"reason\": \"Significant sleep disruption, affecting daytime function\"},\n",
    "    {\"symptom\": \"sleep disturbance\", \"date\": \"2024-10-18\", \"is_active\": True, \"intensity\": 0.8, \"reason\": \"Severe insomnia, only getting 2-3 hours of sleep\"},\n",
    "    {\"symptom\": \"sleep disturbance\", \"date\": \"2024-10-19\", \"is_active\": True, \"intensity\": 0.7, \"reason\": \"Sleep slightly improved but still significantly disturbed\"},\n",
    "    {\"symptom\": \"sleep disturbance\", \"date\": \"2024-10-20\", \"is_active\": True, \"intensity\": 0.6, \"reason\": \"Moderate sleep issues, medication helping somewhat\"},\n",
    "    {\"symptom\": \"sleep disturbance\", \"date\": \"2024-10-21\", \"is_active\": True, \"intensity\": 0.5, \"reason\": \"Sleep quality improving with treatment\"},\n",
    "    {\"symptom\": \"sleep disturbance\", \"date\": \"2024-10-22\", \"is_active\": True, \"intensity\": 0.4, \"reason\": \"Mild sleep disturbance, getting better rest\"},\n",
    "    {\"symptom\": \"sleep disturbance\", \"date\": \"2024-10-23\", \"is_active\": True, \"intensity\": 0.3, \"reason\": \"Minor sleep issues, mostly resolved\"},\n",
    "    {\"symptom\": \"sleep disturbance\", \"date\": \"2024-10-24\", \"is_active\": False, \"intensity\": 0.0, \"reason\": \"Sleep has returned to normal\"},\n",
    "\n",
    "    {\"symptom\": \"nerve pain\", \"date\": \"2024-10-20\", \"is_active\": True, \"intensity\": 0.3, \"reason\": \"Patient reports new onset of tingling sensation\"},\n",
    "    {\"symptom\": \"nerve pain\", \"date\": \"2024-10-21\", \"is_active\": True, \"intensity\": 0.4, \"reason\": \"Nerve pain increasing, spreading to larger area\"},\n",
    "    {\"symptom\": \"nerve pain\", \"date\": \"2024-10-22\", \"is_active\": True, \"intensity\": 0.5, \"reason\": \"Moderate nerve pain with occasional sharp sensations\"},\n",
    "    {\"symptom\": \"nerve pain\", \"date\": \"2024-10-23\", \"is_active\": True, \"intensity\": 0.7, \"reason\": \"Severe nerve pain, significantly affecting daily activities\"},\n",
    "    {\"symptom\": \"nerve pain\", \"date\": \"2024-10-27\", \"is_active\": False, \"intensity\": 0.0, \"reason\": \"Nerve pain has resolved completely\"}\n",
    "]\n",
    "\n",
    "df = pd.DataFrame(data)\n",
    "df['date'] = pd.to_datetime(df['date'])\n",
    "date_range = df['date'].agg(['min', 'max'])\n",
    "active_symptoms = df[df['is_active']].copy()\n",
    "\n",
    "color_scale = [\n",
    "    [0, 'rgba(0,255,0,0.7)'],      # Light green with transparency\n",
    "    [0.25, 'rgba(173,255,47,0.7)'], # Light yellowgreen with transparency\n",
    "    [0.5, 'rgba(255,255,0,0.7)'],   # Light yellow with transparency\n",
    "    [0.75, 'rgba(255,165,0,0.7)'],  # Light orange with transparency\n",
    "    [1, 'rgba(255,0,0,0.7)']        # Light red with transparency\n",
    "]\n",
    "\n",
    "def get_color_from_intensity(intensity):\n",
    "    if intensity <= 0:\n",
    "        return 'rgba(0,255,0,0.35)'\n",
    "    elif intensity <= 0.25:\n",
    "        r = int(0 + (173-0) * (intensity/0.25))\n",
    "        g = 255\n",
    "        b = int(0 + (47-0) * (intensity/0.25))\n",
    "        return f'rgba({r},{g},{b},0.35)'\n",
    "    elif intensity <= 0.5:\n",
    "        r = int(173 + (255-173) * ((intensity-0.25)/0.25))\n",
    "        g = 255\n",
    "        b = int(47 + (0-47) * ((intensity-0.25)/0.25))\n",
    "        return f'rgba({r},{g},{b},0.35)'\n",
    "    elif intensity <= 0.75:\n",
    "        r = 255\n",
    "        g = int(255 + (165-255) * ((intensity-0.5)/0.25))\n",
    "        b = 0\n",
    "        return f'rgba({r},{g},{b},0.35)'\n",
    "    else:\n",
    "        r = 255\n",
    "        g = int(165 + (0-165) * ((intensity-0.75)/0.25))\n",
    "        b = 0\n",
    "        return f'rgba({r},{g},{b},0.35)'\n",
    "\n",
    "# Enhanced hover text with emoji indicators and reasons\n",
    "active_symptoms['hover_text'] = (\n",
    "    '📅 Date: ' + active_symptoms['date'].dt.strftime('%Y-%m-%d') + \n",
    "    '<br>🔥 Intensity: ' + active_symptoms['intensity'].astype(str) +\n",
    "    '<br>📝 Reason: ' + active_symptoms['reason']\n",
    ")\n",
    "\n",
    "fig = go.Figure()\n",
    "\n",
    "# Get unique symptom positions\n",
    "unique_symptoms = active_symptoms['symptom'].unique()\n",
    "symptom_positions = {symptom: i for i, symptom in enumerate(unique_symptoms)}\n",
    "\n",
    "# Add traces for each symptom with enhanced styling\n",
    "for symptom in unique_symptoms:\n",
    "    mask = active_symptoms['symptom'] == symptom\n",
    "    symptom_data = active_symptoms[mask].sort_values('date')\n",
    "    y_position = symptom_positions[symptom]\n",
    "    \n",
    "    # Add connecting gradient shapes with glowing effect\n",
    "    for i in range(len(symptom_data)-1):\n",
    "        # Get the next point in the original dataset after current point\n",
    "        current_date = symptom_data['date'].iloc[i]\n",
    "        next_date = symptom_data['date'].iloc[i+1]\n",
    "        \n",
    "        # Find any inactive points between these dates\n",
    "        inactive_between = df[\n",
    "            (df['symptom'] == symptom) & \n",
    "            (df['date'] > current_date) & \n",
    "            (df['date'] < next_date) & \n",
    "            (~df['is_active'])\n",
    "        ]\n",
    "        \n",
    "        # Only add the colored boxes if there are no inactive points between\n",
    "        if len(inactive_between) == 0:\n",
    "            # Create multiple small rectangles to create a smooth gradient effect\n",
    "            num_steps = 20  # Number of gradient steps\n",
    "            start_intensity = symptom_data['intensity'].iloc[i]\n",
    "            end_intensity = symptom_data['intensity'].iloc[i+1]\n",
    "            \n",
    "            for step in range(num_steps):\n",
    "                # Calculate the position and intensity for this step\n",
    "                x0 = current_date + (next_date - current_date) * (step/num_steps)\n",
    "                x1 = current_date + (next_date - current_date) * ((step+1)/num_steps)\n",
    "                intensity = start_intensity + (end_intensity - start_intensity) * (step/num_steps)\n",
    "                \n",
    "                # Add a trail to the leftmost box of a sequence\n",
    "                if step == 0:\n",
    "                    x0 = current_date\n",
    "                    x1 = current_date + (next_date - current_date) * (0.1/num_steps)\n",
    "                    fig.add_shape(\n",
    "                        type=\"rect\",\n",
    "                        x0=x0,\n",
    "                        x1=x1,\n",
    "                        y0=y_position-0.35,\n",
    "                        y1=y_position+0.35,\n",
    "                        fillcolor=get_color_from_intensity(intensity),\n",
    "                        line=dict(width=0),\n",
    "                        layer='below'\n",
    "                    )\n",
    "                # Add a transparent trail to the left of the next box if the sequence was interrupted by an is_active = False\n",
    "                elif len(inactive_between) > 0:\n",
    "                    x0 = current_date\n",
    "                    x1 = current_date + (next_date - current_date) * (0.1/num_steps)\n",
    "                    fig.add_shape(\n",
    "                        type=\"rect\",\n",
    "                        x0=x0,\n",
    "                        x1=x1,\n",
    "                        y0=y_position-0.35,\n",
    "                        y1=y_position+0.35,\n",
    "                        fillcolor='rgba(255,255,255,0)',\n",
    "                        line=dict(width=0),\n",
    "                        layer='below'\n",
    "                    )\n",
    "                \n",
    "                fig.add_shape(\n",
    "                    type=\"rect\",\n",
    "                    x0=x0,\n",
    "                    x1=x1,\n",
    "                    y0=y_position-0.35,\n",
    "                    y1=y_position+0.35,\n",
    "                    fillcolor=get_color_from_intensity(intensity),\n",
    "                    line=dict(width=0),\n",
    "                    layer='below'\n",
    "                )\n",
    "    \n",
    "    fig.add_trace(\n",
    "        go.Scatter(\n",
    "            x=symptom_data['date'],\n",
    "            y=[y_position] * len(symptom_data),\n",
    "            mode='markers+lines',\n",
    "            marker=dict(\n",
    "                size=25,\n",
    "                symbol='circle',\n",
    "                color=symptom_data['intensity'],\n",
    "                colorscale=color_scale,\n",
    "                showscale=True,\n",
    "                cmin=0.0,  # Set minimum of color scale\n",
    "                cmax=1.0,  # Set maximum of color scale\n",
    "                colorbar=dict(\n",
    "                    title=\"Intensity Level\",\n",
    "                    titleside=\"right\",\n",
    "                    thickness=15,\n",
    "                    len=0.4,\n",
    "                    bgcolor='rgba(255,255,255,0.9)',\n",
    "                    bordercolor='rgba(255,255,255,0.9)',\n",
    "                    tickfont=dict(size=12),\n",
    "                    tickmode='linear',\n",
    "                    tick0=0.0,\n",
    "                    dtick=0.2\n",
    "                ),\n",
    "                line=dict(color='white', width=2)\n",
    "            ),\n",
    "            line=dict(\n",
    "                color='rgba(153, 102, 255, 0.3)',\n",
    "                width=3\n",
    "            ),\n",
    "            name=symptom,\n",
    "            hovertext=symptom_data['hover_text'],\n",
    "            hoverinfo='text',\n",
    "        )\n",
    "    )\n",
    "\n",
    "fig.update_layout(\n",
    "    title=dict(\n",
    "        text=\"Symptom Intensity Timeline\",\n",
    "        font=dict(size=24, color='#2d3436'),\n",
    "        x=0.5,\n",
    "        y=0.95\n",
    "    ),\n",
    "    paper_bgcolor='rgba(240,242,245,0.95)',\n",
    "    plot_bgcolor='rgba(240,242,245,0.95)',\n",
    "    xaxis=dict(\n",
    "        title=\"Timeline\",\n",
    "        title_font=dict(size=14),\n",
    "        type='date',\n",
    "        range=[date_range['min'], date_range['max']],\n",
    "        showgrid=True,\n",
    "        gridcolor='rgba(128,128,128,0.2)',\n",
    "        linecolor='rgba(128,128,128,0.4)',\n",
    "        zeroline=False\n",
    "    ),\n",
    "    yaxis=dict(\n",
    "        title=\"Symptoms\",\n",
    "        title_font=dict(size=14),\n",
    "        ticktext=list(unique_symptoms),\n",
    "        tickvals=list(range(len(unique_symptoms))),\n",
    "        categoryorder=\"array\",\n",
    "        categoryarray=list(unique_symptoms),\n",
    "        gridcolor='rgba(128,128,128,0.2)',\n",
    "        linecolor='rgba(128,128,128,0.4)',\n",
    "        zeroline=False\n",
    "    ),\n",
    "    height=700,\n",
    "    showlegend=False,\n",
    "    margin=dict(l=150, r=100, t=100, b=50),\n",
    "    hoverlabel=dict(\n",
    "        bgcolor=\"white\",\n",
    "        font_size=12,\n",
    "\n",
    "    )\n",
    ")\n",
    "\n",
    "# Add subtle grid pattern\n",
    "fig.update_xaxes(\n",
    "    showgrid=True,\n",
    "    gridwidth=1,\n",
    "    gridcolor='rgba(128,128,128,0.1)',\n",
    "    minor=dict(\n",
    "        showgrid=True,\n",
    "        gridwidth=0.5,\n",
    "        gridcolor='rgba(128,128,128,0.05)'\n",
    "    )\n",
    ")\n",
    "fig.update_yaxes(\n",
    "    showgrid=True,\n",
    "    gridwidth=1,\n",
    "    gridcolor='rgba(128,128,128,0.1)'\n",
    ")\n",
    "\n",
    "fig.show()"
   ]
  },
  {
   "cell_type": "code",
   "execution_count": null,
   "metadata": {},
   "outputs": [],
   "source": []
  },
  {
   "cell_type": "code",
   "execution_count": null,
   "metadata": {},
   "outputs": [],
   "source": []
  },
  {
   "cell_type": "code",
   "execution_count": null,
   "metadata": {},
   "outputs": [],
   "source": []
  }
 ],
 "metadata": {
  "kernelspec": {
   "display_name": "ffc-dbricks-ht-genai-fgXJucMy-py3.12",
   "language": "python",
   "name": "python3"
  },
  "language_info": {
   "codemirror_mode": {
    "name": "ipython",
    "version": 3
   },
   "file_extension": ".py",
   "mimetype": "text/x-python",
   "name": "python",
   "nbconvert_exporter": "python",
   "pygments_lexer": "ipython3",
   "version": "3.12.4"
  }
 },
 "nbformat": 4,
 "nbformat_minor": 2
}
